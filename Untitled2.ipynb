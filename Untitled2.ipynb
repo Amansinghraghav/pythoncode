{
 "cells": [
  {
   "cell_type": "code",
   "execution_count": 12,
   "metadata": {
    "scrolled": true
   },
   "outputs": [
    {
     "name": "stdout",
     "output_type": "stream",
     "text": [
      "1\t2\t3\t4\t5\t6\t7\t8\t9\t10\t11\t12\t13\t14\t15\t16\t17\t18\t19\t20\t21\t22\t23\t24\t25\t26\t27\t28\t29\t30\t31\t32\t33\t34\t35\t36\t37\t38\t39\t40\t41\t42\t43\t44\t45\t46\t47\t48\t49\t50\t51\t52\t53\t54\t55\t56\t57\t58\t59\t60\t61\t62\t63\t64\t65\t66\t67\t68\t69\t70\t71\t72\t73\t74\t75\t76\t77\t78\t79\t80\t81\t82\t83\t84\t85\t86\t87\t88\t89\t90\t91\t92\t93\t94\t95\t96\t97\t98\t99\t100\t"
     ]
    }
   ],
   "source": [
    "c=1\n",
    "while c<=100 :\n",
    "    print(c,end='\\t')\n",
    "    c=c+1"
   ]
  },
  {
   "cell_type": "code",
   "execution_count": 11,
   "metadata": {
    "scrolled": true
   },
   "outputs": [
    {
     "name": "stdout",
     "output_type": "stream",
     "text": [
      "100\t99\t98\t97\t96\t95\t94\t93\t92\t91\t90\t89\t88\t87\t86\t85\t84\t83\t82\t81\t80\t79\t78\t77\t76\t75\t74\t73\t72\t71\t70\t69\t68\t67\t66\t65\t64\t63\t62\t61\t60\t59\t58\t57\t56\t55\t54\t53\t52\t51\t50\t49\t48\t47\t46\t45\t44\t43\t42\t41\t40\t39\t38\t37\t36\t35\t34\t33\t32\t31\t30\t29\t28\t27\t26\t25\t24\t23\t22\t21\t20\t19\t18\t17\t16\t15\t14\t13\t12\t11\t10\t9\t8\t7\t6\t5\t4\t3\t2\t1\t"
     ]
    }
   ],
   "source": [
    "c=100\n",
    "while c>=1 :\n",
    "    print(c,end='\\t')\n",
    "    c=c-1"
   ]
  },
  {
   "cell_type": "code",
   "execution_count": 17,
   "metadata": {},
   "outputs": [
    {
     "ename": "IndentationError",
     "evalue": "expected an indented block (<ipython-input-17-9b5eb1afda67>, line 4)",
     "output_type": "error",
     "traceback": [
      "\u001b[1;36m  File \u001b[1;32m\"<ipython-input-17-9b5eb1afda67>\"\u001b[1;36m, line \u001b[1;32m4\u001b[0m\n\u001b[1;33m    print(num*x)\u001b[0m\n\u001b[1;37m        ^\u001b[0m\n\u001b[1;31mIndentationError\u001b[0m\u001b[1;31m:\u001b[0m expected an indented block\n"
     ]
    }
   ],
   "source": [
    "num=int(input('enter the number'))\n",
    "x=1\n",
    "while x<=10 :\n",
    "print(num*x)\n",
    " x=x+1"
   ]
  },
  {
   "cell_type": "code",
   "execution_count": 23,
   "metadata": {},
   "outputs": [
    {
     "name": "stdout",
     "output_type": "stream",
     "text": [
      "enter the number4\n",
      "4\n",
      "8\n",
      "12\n",
      "16\n",
      "20\n",
      "24\n",
      "28\n",
      "32\n",
      "36\n",
      "40\n"
     ]
    }
   ],
   "source": [
    "num=int(input('enter the number'))\n",
    "x=1\n",
    "while x<=10 :\n",
    "    print(num*x)\n",
    "    x=x+1"
   ]
  },
  {
   "cell_type": "code",
   "execution_count": 32,
   "metadata": {
    "scrolled": true
   },
   "outputs": [
    {
     "name": "stdout",
     "output_type": "stream",
     "text": [
      "0 \t+\t1\t=\t0\n",
      "1 \t+\t2\t=\t1\n",
      "3 \t+\t3\t=\t3\n",
      "6 \t+\t4\t=\t6\n",
      "10 \t+\t5\t=\t10\n",
      "15 \t+\t6\t=\t15\n",
      "21 \t+\t7\t=\t21\n",
      "28 \t+\t8\t=\t28\n",
      "36 \t+\t9\t=\t36\n",
      "45 \t+\t10\t=\t45\n",
      "55 \t+\t11\t=\t55\n",
      "66 \t+\t12\t=\t66\n",
      "78 \t+\t13\t=\t78\n",
      "91 \t+\t14\t=\t91\n",
      "105 \t+\t15\t=\t105\n",
      "120 \t+\t16\t=\t120\n",
      "136 \t+\t17\t=\t136\n",
      "153 \t+\t18\t=\t153\n",
      "171 \t+\t19\t=\t171\n",
      "190 \t+\t20\t=\t190\n",
      "210 \t+\t21\t=\t210\n",
      "231 \t+\t22\t=\t231\n",
      "253 \t+\t23\t=\t253\n",
      "276 \t+\t24\t=\t276\n",
      "300 \t+\t25\t=\t300\n",
      "325 \t+\t26\t=\t325\n",
      "351 \t+\t27\t=\t351\n",
      "378 \t+\t28\t=\t378\n",
      "406 \t+\t29\t=\t406\n",
      "435 \t+\t30\t=\t435\n",
      "465 \t+\t31\t=\t465\n",
      "496 \t+\t32\t=\t496\n",
      "528 \t+\t33\t=\t528\n",
      "561 \t+\t34\t=\t561\n",
      "595 \t+\t35\t=\t595\n",
      "630 \t+\t36\t=\t630\n",
      "666 \t+\t37\t=\t666\n",
      "703 \t+\t38\t=\t703\n",
      "741 \t+\t39\t=\t741\n",
      "780 \t+\t40\t=\t780\n",
      "820 \t+\t41\t=\t820\n",
      "861 \t+\t42\t=\t861\n",
      "903 \t+\t43\t=\t903\n",
      "946 \t+\t44\t=\t946\n",
      "990 \t+\t45\t=\t990\n",
      "1035 \t+\t46\t=\t1035\n",
      "1081 \t+\t47\t=\t1081\n",
      "1128 \t+\t48\t=\t1128\n",
      "1176 \t+\t49\t=\t1176\n",
      "1225 \t+\t50\t=\t1225\n",
      "1275 \t+\t51\t=\t1275\n",
      "1326 \t+\t52\t=\t1326\n",
      "1378 \t+\t53\t=\t1378\n",
      "1431 \t+\t54\t=\t1431\n",
      "1485 \t+\t55\t=\t1485\n",
      "1540 \t+\t56\t=\t1540\n",
      "1596 \t+\t57\t=\t1596\n",
      "1653 \t+\t58\t=\t1653\n",
      "1711 \t+\t59\t=\t1711\n",
      "1770 \t+\t60\t=\t1770\n",
      "1830 \t+\t61\t=\t1830\n",
      "1891 \t+\t62\t=\t1891\n",
      "1953 \t+\t63\t=\t1953\n",
      "2016 \t+\t64\t=\t2016\n",
      "2080 \t+\t65\t=\t2080\n",
      "2145 \t+\t66\t=\t2145\n",
      "2211 \t+\t67\t=\t2211\n",
      "2278 \t+\t68\t=\t2278\n",
      "2346 \t+\t69\t=\t2346\n",
      "2415 \t+\t70\t=\t2415\n",
      "2485 \t+\t71\t=\t2485\n",
      "2556 \t+\t72\t=\t2556\n",
      "2628 \t+\t73\t=\t2628\n",
      "2701 \t+\t74\t=\t2701\n",
      "2775 \t+\t75\t=\t2775\n",
      "2850 \t+\t76\t=\t2850\n",
      "2926 \t+\t77\t=\t2926\n",
      "3003 \t+\t78\t=\t3003\n",
      "3081 \t+\t79\t=\t3081\n",
      "3160 \t+\t80\t=\t3160\n",
      "3240 \t+\t81\t=\t3240\n",
      "3321 \t+\t82\t=\t3321\n",
      "3403 \t+\t83\t=\t3403\n",
      "3486 \t+\t84\t=\t3486\n",
      "3570 \t+\t85\t=\t3570\n",
      "3655 \t+\t86\t=\t3655\n",
      "3741 \t+\t87\t=\t3741\n",
      "3828 \t+\t88\t=\t3828\n",
      "3916 \t+\t89\t=\t3916\n",
      "4005 \t+\t90\t=\t4005\n",
      "4095 \t+\t91\t=\t4095\n",
      "4186 \t+\t92\t=\t4186\n",
      "4278 \t+\t93\t=\t4278\n",
      "4371 \t+\t94\t=\t4371\n",
      "4465 \t+\t95\t=\t4465\n",
      "4560 \t+\t96\t=\t4560\n",
      "4656 \t+\t97\t=\t4656\n",
      "4753 \t+\t98\t=\t4753\n",
      "4851 \t+\t99\t=\t4851\n",
      "4950 \t+\t100\t=\t4950\n"
     ]
    }
   ],
   "source": [
    "x=1\n",
    "sum=0\n",
    "while x<=100 :\n",
    "    print('{} \\t+\\t{}\\t=\\t{}'.format(sum,x,sum))\n",
    "    sum=sum+x\n",
    "    x=x+1\n"
   ]
  },
  {
   "cell_type": "code",
   "execution_count": null,
   "metadata": {
    "collapsed": true
   },
   "outputs": [],
   "source": [
    "from random import randrange\n",
    "x=randrange(1,100)\n",
    "print('computer given number : ',x)\n",
    "y=1\n",
    "while y<=5 :\n",
    "    z = int(input(\"enter a number\"))\n",
    "    if x < z   :\n",
    "        print('the number is lower')\n",
    "    elif x > z :\n",
    "        print('the number is heigher')\n",
    "    else :\n",
    "        print('winner')\n",
    "        break \n",
    "    y= y + 1\n",
    "print('losser')"
   ]
  },
  {
   "cell_type": "code",
   "execution_count": null,
   "metadata": {},
   "outputs": [
    {
     "name": "stdout",
     "output_type": "stream",
     "text": [
      "enter a number1\n",
      "think greater number \n",
      "enter a number2\n",
      "think greater number \n",
      "enter a number3\n",
      "think greater number \n",
      "enter a number4\n",
      "you are winner\n",
      "do you play again enter yes or no yes\n",
      "enter a number1\n",
      "think greater number \n",
      "enter a number2\n",
      "think greater number \n",
      "you are a such losser\n",
      "computer guess number :  41\n",
      "do you play again enter yes or no yes\n",
      "do you play again enter yes or no yes\n"
     ]
    }
   ],
   "source": [
    "from random import randrange\n",
    "x=1\n",
    "while True :\n",
    "    z = randrange(1,50)\n",
    "    if z>50 or z<1 :\n",
    "        print('only enter the number in 1 to 50 range ')\n",
    "        continue\n",
    "    else :\n",
    "        while x<=5 :\n",
    "            user_guess = int(input('enter a number'))\n",
    "            if z < user_guess :\n",
    "                print('think lower number')\n",
    "            elif z > user_guess :\n",
    "                print('think greater number ')\n",
    "            else :\n",
    "                print('you are winner')\n",
    "                break\n",
    "            if x==5 :\n",
    "                print('you are a such losser')\n",
    "                print('computer guess number : ',z)\n",
    "            x=x+1\n",
    "        ch=input('do you play again enter yes or no ').strip().lower()\n",
    "        if ch == 'yes' :\n",
    "            continue\n",
    "        else :\n",
    "            break"
   ]
  },
  {
   "cell_type": "code",
   "execution_count": 1,
   "metadata": {
    "collapsed": true
   },
   "outputs": [],
   "source": [
    "###### "
   ]
  },
  {
   "cell_type": "code",
   "execution_count": 12,
   "metadata": {},
   "outputs": [
    {
     "name": "stdout",
     "output_type": "stream",
     "text": [
      "'aman'\n"
     ]
    }
   ],
   "source": [
    "str ='aman'\n",
    "k=ascii(str)\n",
    "print(k)"
   ]
  },
  {
   "cell_type": "code",
   "execution_count": null,
   "metadata": {
    "collapsed": true
   },
   "outputs": [],
   "source": []
  }
 ],
 "metadata": {
  "kernelspec": {
   "display_name": "Python 3",
   "language": "python",
   "name": "python3"
  },
  "language_info": {
   "codemirror_mode": {
    "name": "ipython",
    "version": 3
   },
   "file_extension": ".py",
   "mimetype": "text/x-python",
   "name": "python",
   "nbconvert_exporter": "python",
   "pygments_lexer": "ipython3",
   "version": "3.6.3"
  }
 },
 "nbformat": 4,
 "nbformat_minor": 2
}
