{
 "cells": [
  {
   "cell_type": "code",
   "execution_count": 6,
   "metadata": {},
   "outputs": [
    {
     "name": "stdout",
     "output_type": "stream",
     "text": [
      "enter the number for check prime or not prime971\n",
      "number is prime\n"
     ]
    }
   ],
   "source": [
    "# check the number is prime or not prime\n",
    "number = int(input('enter the number for check prime or not prime : '))\n",
    "x = 2\n",
    "while x <= number/2 :\n",
    "    if number % x == 0 :\n",
    "        print('number is not prime : ')\n",
    "        break\n",
    "    else :\n",
    "        print('number is prime')\n",
    "        break\n",
    "    x=x+1"
   ]
  },
  {
   "cell_type": "code",
   "execution_count": 1,
   "metadata": {},
   "outputs": [
    {
     "name": "stdout",
     "output_type": "stream",
     "text": [
      "enter the lowest number : 1\n",
      "enter the heighst number : 10\n",
      "1      2 3 3      5      7      "
     ]
    }
   ],
   "source": [
    "#check number is prime or not prime to interval\n",
    "import math\n",
    "s = int(input('enter the lowest number : '))\n",
    "e = int(input('enter the heighst number : '))\n",
    "while s <= e :\n",
    "    num=s\n",
    "    if num<=1 :\n",
    "        exit(0)\n",
    "    elif num<=3 :\n",
    "        print(num,end=' ')\n",
    "        exit(0)\n",
    "    check = 2\n",
    "    sq=math.sqrt(num)\n",
    "    sq=int(sq)+1\n",
    "    \n",
    "    while check <= sq :\n",
    "        \n",
    "        k = num % check\n",
    "        if k == 0 :\n",
    "            break\n",
    "        elif check == sq :\n",
    "            print(num,end='      ')\n",
    "        check = check + 1\n",
    "    s =s+1"
   ]
  },
  {
   "cell_type": "code",
   "execution_count": null,
   "metadata": {
    "collapsed": true
   },
   "outputs": [],
   "source": [
    "sum = 0\n",
    "# find the sum of the cube of each digit\n",
    "num =int(input('enter a number to check armstrong : '))\n",
    "temp = num\n",
    "while temp > 0:\n",
    "   x = temp % 10\n",
    "   sum = x ** 3 +sum\n",
    "   temp =temp// 10\n",
    "if num == sum:\n",
    "   print(num,\"is an Armstrong number\")\n",
    "else:\n",
    "   print(num,\"is not an Armstrong number\")"
   ]
  },
  {
   "cell_type": "markdown",
   "metadata": {},
   "source": [
    "# for loop"
   ]
  },
  {
   "cell_type": "code",
   "execution_count": 2,
   "metadata": {},
   "outputs": [
    {
     "name": "stdout",
     "output_type": "stream",
     "text": [
      "do you want to role againg\n",
      "2\n",
      "do you want to role againf\n",
      "4\n",
      "do you want to role againd\n",
      "3\n",
      "do you want to role agains\n",
      "5\n",
      "do you want to role again\n"
     ]
    }
   ],
   "source": [
    "from random import randrange\n",
    "while input('do you want to role again') :\n",
    "    print(randrange(1,7))"
   ]
  },
  {
   "cell_type": "code",
   "execution_count": 11,
   "metadata": {},
   "outputs": [
    {
     "name": "stdout",
     "output_type": "stream",
     "text": [
      "-5   -10   -15   -20   -25   -30   -35   -40   -45   -50   -55   -60   -65   -70   -75   -80   -85   -90   -95   -100   "
     ]
    }
   ],
   "source": [
    "for var in range(-1 ,-101,-1) :\n",
    "    if var%5==0 :\n",
    "        print(var,end='   ')"
   ]
  },
  {
   "cell_type": "code",
   "execution_count": null,
   "metadata": {
    "collapsed": true
   },
   "outputs": [],
   "source": [
    "x = int(input('enter starting number'))\n",
    "y = int(input('enter endi\n",
    "z = int(input('enter a number'))\n",
    "for var in range(x, y) :\n",
    "    if var % z ==0 :\n",
    "        print(var)"
   ]
  },
  {
   "cell_type": "code",
   "execution_count": 5,
   "metadata": {},
   "outputs": [
    {
     "name": "stdout",
     "output_type": "stream",
     "text": [
      "enter the number 2\n",
      "enter the number 50\n",
      "2  3  5  7  11  13  17  19  23  29  31  37  41  43  47  "
     ]
    }
   ],
   "source": [
    "import math\n",
    "s=int(input('enter the number '))\n",
    "e=int(input('enter the number '))\n",
    "for s in range(s,e) :\n",
    "    x=int(math.sqrt(s))+1\n",
    "    for start in range(2,x) :\n",
    "        if s%start==0 :\n",
    "            break \n",
    "        start=start+1\n",
    "    else :\n",
    "        print(s,end='  ')\n",
    "    s +=1"
   ]
  },
  {
   "cell_type": "markdown",
   "metadata": {},
   "source": [
    "# palimdrom"
   ]
  },
  {
   "cell_type": "code",
   "execution_count": 12,
   "metadata": {},
   "outputs": [
    {
     "name": "stdout",
     "output_type": "stream",
     "text": [
      "enter a number : 12321\n",
      "number is palimdrom\n"
     ]
    }
   ],
   "source": [
    "num = int(input('enter a number : '))\n",
    "temp3 = num\n",
    "sum1 = 0\n",
    "while num >0:\n",
    "    temp1 = num % 10\n",
    "    num = num // 10\n",
    "    sum1  = sum1*10+temp1\n",
    "if sum1 == temp3 :\n",
    "    print('number is palimdrom')\n",
    "else :\n",
    "    print('number is not palimdrom')"
   ]
  },
  {
   "cell_type": "code",
   "execution_count": 11,
   "metadata": {},
   "outputs": [
    {
     "name": "stdout",
     "output_type": "stream",
     "text": [
      "enter a number407\n",
      "number is armstrong 407\n"
     ]
    }
   ],
   "source": [
    "# armstrong\n",
    "num1 = input('enter a number')\n",
    "num =int(num1)\n",
    "temp = num\n",
    "sum1 = 0\n",
    "while num>0 :\n",
    "    temp1 = num % 10\n",
    "    num   = num // 10\n",
    "    sum1 = sum1 +(temp1 ** len(num1))\n",
    "if sum1 == temp :\n",
    "    print('number is armstrong',sum1)\n",
    "else :\n",
    "    print('number is not armstrong',sum1)"
   ]
  },
  {
   "cell_type": "code",
   "execution_count": null,
   "metadata": {},
   "outputs": [
    {
     "name": "stdout",
     "output_type": "stream",
     "text": [
      "enter the starting range number100\n",
      "enter the starting range number500\n",
      "    1 1 1 1 1 1 1 1 1 1 1 1 1 1 1 1 1 1 1 1 1 1 1 1 1 1 1 1 1 1 1 1 1 1 1 1 1 1 1 1 1 1 1 1 1 1 1 1 1 1 1 1 1 1 1 1 1 1 1 1 1 1 1 1 1 1 1 1 1 1 1 1 1 1 1 1 1 1 1 1 1 1 1 1 1 1 1 1 1 1 1 1 1 1 1 1 1 1 1 1 1 1 1 1 1 1 1 1 1 1 1 1 1 1 1 1 1 1 1 1 1 1 1 1 1 1 1 1 1 1 1 1 1 1 1 1 1 1 1 1 1 1 1 1 1 1 1 1 1 1 1 1 1 1 1 1 1 1 1 1 1 1 1 1 1 1 1 1 1 1 1 1 1 1 1 1 1 1 1 1 1 1 1 1 1 1 1 1 1 1 1 1 1 1 1 1 1 1 1 1 1 1 1 1 1 1 1 1 1 1 1 1 1 1 1 1 1 1 1 1 1 1 1 1 1 1 1 1 1 1 1 1 1 1 1 1 1 1 1 1 1 1 1 1 1 1 1 1 1 1 1 1 1 1 1 1 1 1 1 1 1 1 1 1 1 1 1 1 1 1 1 1 1 1 1 1 1 1 1 1 1 1 1 1 1 1 1 1 1 1 1 1 1 1 1 1 1 1 1 1 1 1 1 1 1 1 1 1 1 1 1 1 1 1 1 1 1 1 1 1 1 1 1 1 1 1 1 1 1 1 1 1 1 1 1 1 1 1 1 1 1 1 1 1 1 1 1 1 1 1 1 1 1 1 1 1 1 1 1 1 1 1 1 1 1 1 1 1 1 1 1 1 1 1 1 1 1 1 1 1 1 1 1 1 1 1 1 1 1 1 1 1 1 1 1 1 1 1 1 1 1 1 1 1 1 1 1 1 1 1 1 1 1 1 1 1 1 1 1 1 1 1 1 1 1 1 1 1 1 1 1 1 1 1 1 1 1 1 1 1 1 1 1 1 1 1 1 1 1 1 1 1 1 1 1 1 1 1 1 1 1 1 1 1 1 1 1 1 1 1 1 1 1 1 1 1 1 1 1 1 1 1 1 1 1 1 1 1 1 1 1 1 1 1 1 1 1 1 1 1 1 1 1 1 1 1 1 1 1 1 1 1 1 1 1 1 1 1 1 1 1 1 1 1 1 1 1 1 1 1 1 1 1 1 1 1 1 1 1 1 1 1 1 1 1 1 1 1 1 1 1 1 1 1 1 1 1 1 1 1 1 1 1 1 1 1 1 1 1 1 1 1 1 1 1 1 1 1 1 1 1 1 1 1 1 1 1 1 1 1 1 1 1 1 1 1 1 1 1 1 1 1 1 1 1 1 1 1 1 1 1 1 1 1 1 1 1 1 1 1 1 1 1 1 1 1 1 1 1 1 1 1 1 1 1 1 1 1 1 1 1 1 1 1 1 1 1 1 1 1 1 1 1 1 1 1 1 1 1 1 1 1 1 1 1 1 1 1 1 1 1 1 1 1 1 1 1 1 1 1 1 1 1 1 1 1 1 1 1 1 1 1 1 1 1 1 1 1 1 1 1 1 1 1 1 1 1 1 1 1 1 1 1 1 1 1 1 1 1 1 1 1 1 1 1 1 1 1 1 1 1 1 1 1 1 1 1 1 1 1 1 1 1 1 1 1 1 1 1 1 1 1 1 1 1 1 1 1 1 1 1 1 1 1 1 1 1 1 1 1 1 1 1 1 1 1 1 1 1 1 1 1 1 1 1 1 1 1 1 1 1 1 1 1 1 1 1 1 1 1 1 1 1 1 1 1 1 1 1 1 1 1 1 1 1 1 1 1 1 1 1 1 1 1 1 1 1 1 1 1 1 1 1 1 1 1 1 1 1 1 1 1 1 1 1 1 1 1 1 1 1 1 1 1 1 1 1 1 1 1 1 1 1 1 1 1 1 1 1 1 1 1 1 1 1 1 1 1 1 1 1 1 1 1 1 1 1 1 1 1 1 1 1 1 1 1 1 1 1 1 1 1 1 1 1 1 1 1 1 1 1 1 1 1 1 1 1 1 1 1 1 1 1 1 1 1 1 1 1 1 1 1 1 1 1 1 1 1 1 1 1 1 1 1 1 1 1 1 1 1 1 1 1 1 1 1 1 1 1 1 1 1 1 1 1 1 1 1 1 1 1 1 1 1 1 1 1 1 1 1 1 1 1 1 1 1 1 1 1 1 1 1 1 1 1 1 1 1 1 1 1 1 1 1 1 1 1 1 1 1 1 1 1 1 1 1 1 1 1 1 1 1 1 1 1 1 1 1 1 1 1 1 1 1 1 1 1 1 1 1 1 1 1 1 1 1 1 1 1 1 1 1 1 1 1 1 1 1 1 1 1 1 1 1 1 1 1 1 1 1 1 1 1 1 1 1 1 1 1 1 1 1 1 1 1 1 1 1 1 1 1 1 1 1 1 1 1 1 1 1 1 1 1 1 1 1 1 1 1 1 1 1 1 1 1 1 1 1 1 1 1 1 1 1 1 1 1 1 1 1 1 1 1 1 1 1 1 1 1 1 1 1 1 1 1 1 1 1 1 1 1 1 1 1 1 1 1 1 1 1 1 1 1 1 1 1 1 1 1 1 1 1 1 1 1 1 1 1 1 1 1 1 1 1 1 1 1 1 1 1 1 1 1 1 1 1 1 1 1 1 1 1 1 1 1 1 1 1 1 1 1 1 1 1 1 1 1 1 1 1 1 1 1 1 1 1 1 1 1 1 1 1 1 1 1 1 1 1 1 1 1 1 1 1 1 1 1 1 1 1 1 1 1 1 1 1 1 1 1 1 1 1 1 1 1 1 1 1 1 1 1 1 1 1 1 1 1 1 1 1 1 1 1 1 1 1 1 1 1 1 1 1 1 1 1 1 1 1 1 1 1 1 1 1 1 1 1 1 1 1 1 1 1 1 1 1 1 1 1 1 1 1 1 1 1 1 1 1 1 1 1 1 1 1 1 1 1 1 1 1 1 1 1 1 1 1 1 1 1 1 1 1 1 1 1 1 1 1 1 1 1 1 1 1 1 1 1 1"
     ]
    }
   ],
   "source": [
    "s = input('enter the starting range number')\n",
    "e = input('enter the starting range number')\n",
    "ss=int(s)\n",
    "ee=int(e)\n",
    "while ss<ee :\n",
    "    temp = ss\n",
    "    sum1 = 0\n",
    "    while ss>0 :\n",
    "        temp1 = ss % 10\n",
    "        ss   = ss // 10\n",
    "        sum1 = sum1 +(temp1 ** len(s))\n",
    "    if sum1 == temp :\n",
    "        print(sum1,end=' ')\n",
    "    else :\n",
    "        print(end=('    '))\n",
    "    ss=ss+1"
   ]
  },
  {
   "cell_type": "code",
   "execution_count": null,
   "metadata": {},
   "outputs": [],
   "source": [
    "from getpass import getpass\n",
    "z=getpass('enterhb')"
   ]
  },
  {
   "cell_type": "code",
   "execution_count": 6,
   "metadata": {},
   "outputs": [
    {
     "name": "stdout",
     "output_type": "stream",
     "text": [
      "enter your acc no1002\n",
      "1\n",
      "singh\n"
     ]
    }
   ],
   "source": [
    "bank = {'user' : ['aman','ashu','singh','raghav'],\n",
    "        'acc'  : [1001,1002,1003,1004],\n",
    "        'password' :['amanashu','ashuaman','singh109','raghav109'] ,\n",
    "        'bal'   :[1000000000,1000000000,100000000,100000000]\n",
    "        }\n",
    "z=int(input('enter your acc no'))\n",
    "if z in bank['acc'] :\n",
    "    index = bank['acc'].index(z)\n",
    "    print(index)\n",
    "    print(bank['user'][2])"
   ]
  },
  {
   "cell_type": "code",
   "execution_count": null,
   "metadata": {
    "collapsed": true
   },
   "outputs": [],
   "source": []
  }
 ],
 "metadata": {
  "kernelspec": {
   "display_name": "Python 3",
   "language": "python",
   "name": "python3"
  },
  "language_info": {
   "codemirror_mode": {
    "name": "ipython",
    "version": 3
   },
   "file_extension": ".py",
   "mimetype": "text/x-python",
   "name": "python",
   "nbconvert_exporter": "python",
   "pygments_lexer": "ipython3",
   "version": "3.6.3"
  }
 },
 "nbformat": 4,
 "nbformat_minor": 2
}
