{
 "cells": [
  {
   "cell_type": "code",
   "execution_count": 2,
   "metadata": {},
   "outputs": [
    {
     "name": "stdout",
     "output_type": "stream",
     "text": [
      "file sucessfully created\n"
     ]
    }
   ],
   "source": [
    "from json import load,dump\n",
    "f=open('bank.db','w')\n",
    "bank = { \n",
    "        'user' : [ 'ram', 'sam','vijay' ],\n",
    "        'acc' : [ 1001, 1002, 1003 ],\n",
    "        'password' : [ 'grras@123', 'something', 'redhat'],\n",
    "        'balance' : [ 10000.23, 20000.45, 124322.234]\n",
    "        }\n",
    "dump(bank,f)\n",
    "f.close()\n",
    "print('file sucessfully created')"
   ]
  },
  {
   "cell_type": "code",
   "execution_count": 7,
   "metadata": {},
   "outputs": [
    {
     "name": "stdout",
     "output_type": "stream",
     "text": [
      "user : ['ram', 'sam', 'vijay'] \n",
      "acc : [1001, 1002, 1003] \n",
      "password : ['grras@123', 'something', 'redhat'] \n",
      "balance : [10000.23, 20000.45, 124322.234] \n"
     ]
    }
   ],
   "source": [
    "from json import load,dump\n",
    "f=open('bank.db','r+')\n",
    "data=load(f)\n",
    "for keys,values in data.items() :\n",
    "    print('{} : {} '.format(keys,values))"
   ]
  },
  {
   "cell_type": "code",
   "execution_count": 2,
   "metadata": {},
   "outputs": [
    {
     "name": "stdout",
     "output_type": "stream",
     "text": [
      "Enter no. of rows : 11\n",
      "*    ******\n",
      "*    *#\n",
      "*    *#\n",
      "*    *#\n",
      "*    *#\n",
      "***********\n",
      "     *    *\n",
      "     *    *\n",
      "     *    *\n",
      "     *    *\n",
      "******    *\n"
     ]
    }
   ],
   "source": [
    "n = int(input(\"Enter no. of rows : \"))\n",
    "if not( n % 2 ) :\n",
    "    n += 1\n",
    "for row in range(1,n+1):\n",
    "    if row == 1 :\n",
    "        print(\"*\",end='')\n",
    "        print(\" \"*(n//2-1),end='')\n",
    "        print(\"*\"*(n//2+1))\n",
    "    elif row <= n//2  :\n",
    "        print('*',end='')\n",
    "        print(\" \"*(n//2-1),end='')\n",
    "        print(\"*#\")\n",
    "    elif row == ( n // 2 + 1 ) :\n",
    "        print(\"*\"*n)\n",
    "    elif row <= n -1 :\n",
    "        print(\" \"*(n//2),end='')\n",
    "        print(\"*\",end='')\n",
    "        print(\" \"*(n//2-1),end='')\n",
    "        print(\"*\")\n",
    "    else :\n",
    "        print(\"*\"*(n//2+1),end='')\n",
    "        print(\" \"*(n//2-1),end='')\n",
    "        print(\"*\")"
   ]
  },
  {
   "cell_type": "code",
   "execution_count": null,
   "metadata": {
    "collapsed": true
   },
   "outputs": [],
   "source": []
  }
 ],
 "metadata": {
  "kernelspec": {
   "display_name": "Python 3",
   "language": "python",
   "name": "python3"
  },
  "language_info": {
   "codemirror_mode": {
    "name": "ipython",
    "version": 3
   },
   "file_extension": ".py",
   "mimetype": "text/x-python",
   "name": "python",
   "nbconvert_exporter": "python",
   "pygments_lexer": "ipython3",
   "version": "3.6.3"
  }
 },
 "nbformat": 4,
 "nbformat_minor": 2
}
