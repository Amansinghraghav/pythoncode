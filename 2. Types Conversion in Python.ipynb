{
 "cells": [
  {
   "cell_type": "markdown",
   "metadata": {
    "collapsed": true
   },
   "source": [
    "# Types conversion in Python"
   ]
  },
  {
   "cell_type": "code",
   "execution_count": 8,
   "metadata": {},
   "outputs": [
    {
     "name": "stdout",
     "output_type": "stream",
     "text": [
      "type of x :  <class 'str'>\n",
      "type of y :  <class 'int'>\n",
      "x = :  asdfgh\n",
      "y = :  492300501\n"
     ]
    }
   ],
   "source": [
    "x='asdfgh'\n",
    "y=int(x,34)\n",
    "print('type of x : ',type(x))\n",
    "print('type of y : ',type(y))\n",
    "print('x = : ',x)\n",
    "print('y = : ',y)"
   ]
  },
  {
   "cell_type": "code",
   "execution_count": 2,
   "metadata": {},
   "outputs": [
    {
     "name": "stdout",
     "output_type": "stream",
     "text": [
      "my_string =  something\n",
      "my_list =  ['s', 'o', 'm', 'e', 't', 'h', 'i', 'n', 'g']\n"
     ]
    }
   ],
   "source": [
    "#conversion into list with help of inbuilt function list(seq)\n",
    "my_string = \"something\" # this is string\n",
    "my_list = list(my_string) # conversing my_string into list\n",
    "print('my_string = ' , my_string )\n",
    "print('my_list = ' ,  my_list)\n"
   ]
  },
  {
   "cell_type": "code",
   "execution_count": 12,
   "metadata": {},
   "outputs": [
    {
     "name": "stdout",
     "output_type": "stream",
     "text": [
      "my_string =  something\n",
      "my_tuple =  ('s', 'o', 'm', 'e', 't', 'h', 'i', 'n', 'g')\n"
     ]
    }
   ],
   "source": [
    "#conversion into list with help of inbuilt function list(seq)\n",
    "my_string = \"something\" # this is string\n",
    "my_tuple = tuple(my_string) # conversing my_string into list\n",
    "print('my_string = ' , my_string )\n",
    "print('my_tuple = ' ,  my_tuple)"
   ]
  },
  {
   "cell_type": "code",
   "execution_count": 4,
   "metadata": {},
   "outputs": [
    {
     "name": "stdout",
     "output_type": "stream",
     "text": [
      "my_tuple =  (2, 3, 'hello', 6, 8, 9, 'bye')\n",
      "my_list =  [2, 3, 'hello', 6, 8, 9, 'bye']\n"
     ]
    }
   ],
   "source": [
    "#convesion tuple into list\n",
    "my_tuple = (2 , 3 , 'hello' , 6 , 8 , 9 , 'bye')\n",
    "my_list = list(my_tuple) # conversing tuple into list\n",
    "print('my_tuple = ', my_tuple)\n",
    "print('my_list = ', my_list)"
   ]
  },
  {
   "cell_type": "code",
   "execution_count": 7,
   "metadata": {},
   "outputs": [
    {
     "name": "stdout",
     "output_type": "stream",
     "text": [
      "my_dict =  {'one': 1, 'two': 2, 'three': 3, 'four': 4}\n",
      "my_list =  ['one', 'two', 'three', 'four']\n"
     ]
    }
   ],
   "source": [
    "# conversion dictonary into list\n",
    "my_dict =  {'one' : 1 ,'two' : 2 ,'three' : 3 ,'four' : 4}\n",
    "my_list = list(my_dict)\n",
    "print('my_dict = ' , my_dict)\n",
    "print('my_list = ' , my_list)"
   ]
  },
  {
   "cell_type": "code",
   "execution_count": 8,
   "metadata": {},
   "outputs": [
    {
     "name": "stdout",
     "output_type": "stream",
     "text": [
      "my_dict =  {'one': 1, 'two': 2, 'three': 3, 'four': 4}\n",
      "my_tuple =  ('one', 'two', 'three', 'four')\n"
     ]
    }
   ],
   "source": [
    "# conversion dictonary into tuple\n",
    "my_dict =  {'one' : 1 ,'two' : 2 ,'three' : 3 ,'four' : 4}\n",
    "my_tuple = tuple(my_dict)\n",
    "print('my_dict = ' , my_dict)\n",
    "print('my_tuple = ' , my_tuple)"
   ]
  },
  {
   "cell_type": "code",
   "execution_count": 10,
   "metadata": {},
   "outputs": [
    {
     "name": "stdout",
     "output_type": "stream",
     "text": [
      "Set =  {1, 2, 3, 'world', 'hello'}\n",
      "List of Set =  [1, 2, 3, 'world', 'hello']\n"
     ]
    }
   ],
   "source": [
    "#conversion sets into list\n",
    "my_set = {1,2,3,'hello','world',} # this is set\n",
    "my_list = list(my_set) #converting set into list\n",
    "print(\"Set = \",my_set) #s is still set\n",
    "print(\"List of Set = \",my_list) #but k is a list now"
   ]
  },
  {
   "cell_type": "code",
   "execution_count": 1,
   "metadata": {},
   "outputs": [
    {
     "name": "stdout",
     "output_type": "stream",
     "text": [
      "Set =  {1, 2, 3, 'hello', 'world'}\n",
      "tuple of Set =  (1, 2, 3, 'hello', 'world')\n"
     ]
    }
   ],
   "source": [
    "#conversion sets into tuple\n",
    "my_set = {1,2,3,'hello','world',} # this is set\n",
    "my_tuple = tuple(my_set) #converting set into tuple\n",
    "print(\"Set = \",my_set) #s is still set\n",
    "print(\"tuple of Set = \",my_tuple) #but k is a tuple now"
   ]
  },
  {
   "cell_type": "code",
   "execution_count": 15,
   "metadata": {},
   "outputs": [
    {
     "name": "stdout",
     "output_type": "stream",
     "text": [
      "my_list =  [('one', 1), ('two', 2), ('three', 3)]\n",
      "my_dict =  {'one': 1, 'two': 2, 'three': 3}\n"
     ]
    }
   ],
   "source": [
    "#dictionary \n",
    "#we have to provide key and value pairs in a seq to convert into a dict\n",
    "#let's define keyword and value pair as seq\n",
    "my_list = [('one' , 1) , ('two' , 2) , ('three' ,3)]\n",
    "my_dict = dict(my_list)\n",
    "print('my_list = ' , my_list)\n",
    "print('my_dict = ' , my_dict)"
   ]
  },
  {
   "cell_type": "code",
   "execution_count": 18,
   "metadata": {},
   "outputs": [
    {
     "name": "stdout",
     "output_type": "stream",
     "text": [
      "my_tuple =  (('one', 1), ('two', 2), ('three', 3))\n",
      "my_dict =  {'one': 1, 'two': 2, 'three': 3}\n"
     ]
    }
   ],
   "source": [
    "# tuple conversing into dictionary\n",
    "my_tuple = (('one' , 1) , ('two' , 2) , ('three' ,3))\n",
    "my_dict = dict(my_tuple)\n",
    "print('my_tuple = ' , my_tuple)\n",
    "print('my_dict = ' , my_dict)"
   ]
  },
  {
   "cell_type": "code",
   "execution_count": 20,
   "metadata": {},
   "outputs": [
    {
     "name": "stdout",
     "output_type": "stream",
     "text": [
      "my_list =  {('two', 2), ('three', 3), ('one', 1)}\n",
      "my_dict =  {'two': 2, 'three': 3, 'one': 1}\n"
     ]
    }
   ],
   "source": [
    "# sets conversinf into dictionary\n",
    "my_set = {('one' , 1) , ('two' , 2) , ('three' ,3)}\n",
    "my_dict = dict(my_set)\n",
    "print('my_set = ' , my_set)\n",
    "print('my_dict = ' , my_dict)"
   ]
  },
  {
   "cell_type": "code",
   "execution_count": 22,
   "metadata": {},
   "outputs": [
    {
     "name": "stdout",
     "output_type": "stream",
     "text": [
      "aman\n",
      "singh\n",
      "raghav\n",
      "hhd\n",
      "ss\n",
      "Type of list we have created  <class 'list'>\n",
      "Here is your list :  [['aman'], ['singh'], ['raghav'], ['hhd'], ['ss']]\n"
     ]
    },
    {
     "ename": "ValueError",
     "evalue": "dictionary update sequence element #0 has length 1; 2 is required",
     "output_type": "error",
     "traceback": [
      "\u001b[1;31m---------------------------------------------------------------------------\u001b[0m",
      "\u001b[1;31mValueError\u001b[0m                                Traceback (most recent call last)",
      "\u001b[1;32m<ipython-input-22-2c2df34a1df1>\u001b[0m in \u001b[0;36m<module>\u001b[1;34m()\u001b[0m\n\u001b[0;32m      6\u001b[0m \u001b[0mprint\u001b[0m\u001b[1;33m(\u001b[0m\u001b[1;34m\"Type of list we have created \"\u001b[0m\u001b[1;33m,\u001b[0m\u001b[0mtype\u001b[0m\u001b[1;33m(\u001b[0m\u001b[0ml\u001b[0m\u001b[1;33m)\u001b[0m\u001b[1;33m)\u001b[0m\u001b[1;33m\u001b[0m\u001b[0m\n\u001b[0;32m      7\u001b[0m \u001b[0mprint\u001b[0m\u001b[1;33m(\u001b[0m\u001b[1;34m\"Here is your list : \"\u001b[0m\u001b[1;33m,\u001b[0m\u001b[0ml\u001b[0m\u001b[1;33m)\u001b[0m\u001b[1;33m\u001b[0m\u001b[0m\n\u001b[1;32m----> 8\u001b[1;33m \u001b[0md\u001b[0m \u001b[1;33m=\u001b[0m \u001b[0mdict\u001b[0m\u001b[1;33m(\u001b[0m\u001b[0ml\u001b[0m\u001b[1;33m)\u001b[0m \u001b[1;31m#type conversion from list to dictionary\u001b[0m\u001b[1;33m\u001b[0m\u001b[0m\n\u001b[0m\u001b[0;32m      9\u001b[0m \u001b[0mprint\u001b[0m\u001b[1;33m(\u001b[0m\u001b[1;34m\"here is your result as dictionary : \"\u001b[0m\u001b[1;33m,\u001b[0m\u001b[0md\u001b[0m\u001b[1;33m)\u001b[0m\u001b[1;33m\u001b[0m\u001b[0m\n",
      "\u001b[1;31mValueError\u001b[0m: dictionary update sequence element #0 has length 1; 2 is required"
     ]
    }
   ],
   "source": [
    "#making a dictionary by taking 5 inputs as tuple key,vale pair\n",
    "l = [] #declearing a empty list\n",
    "one,two,three,four = input().split(),input().split(),input().split(),input().split()\n",
    "five = input().split() #will take input as string and convert it into list by seprating from spaces\n",
    "l.append(one);l.append(two);l.append(three);l.append(four);l.append(five)\n",
    "print(\"Type of list we have created \",type(l))\n",
    "print(\"Here is your list : \",l)\n",
    "d = dict(l) #type conversion from list to dictionary\n",
    "print(\"here is your result as dictionary : \",d)"
   ]
  },
  {
   "cell_type": "code",
   "execution_count": null,
   "metadata": {
    "collapsed": true
   },
   "outputs": [],
   "source": []
  }
 ],
 "metadata": {
  "kernelspec": {
   "display_name": "Python 3",
   "language": "python",
   "name": "python3"
  },
  "language_info": {
   "codemirror_mode": {
    "name": "ipython",
    "version": 3
   },
   "file_extension": ".py",
   "mimetype": "text/x-python",
   "name": "python",
   "nbconvert_exporter": "python",
   "pygments_lexer": "ipython3",
   "version": "3.6.3"
  }
 },
 "nbformat": 4,
 "nbformat_minor": 2
}
