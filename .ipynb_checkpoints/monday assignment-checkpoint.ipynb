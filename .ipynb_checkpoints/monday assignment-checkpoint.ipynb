{
 "cells": [
  {
   "cell_type": "markdown",
   "metadata": {},
   "source": [
    "# 1.print hello world"
   ]
  },
  {
   "cell_type": "code",
   "execution_count": 1,
   "metadata": {},
   "outputs": [
    {
     "name": "stdout",
     "output_type": "stream",
     "text": [
      "hello world\n"
     ]
    }
   ],
   "source": [
    "print('hello world')"
   ]
  },
  {
   "cell_type": "markdown",
   "metadata": {},
   "source": [
    "# 2. Add two number"
   ]
  },
  {
   "cell_type": "code",
   "execution_count": 8,
   "metadata": {},
   "outputs": [
    {
     "name": "stdout",
     "output_type": "stream",
     "text": [
      "enter the first number : 23\n",
      "enter the secound number : 56\n",
      "23  +  56  =  79\n"
     ]
    }
   ],
   "source": [
    "x=int(input('enter the first number : '))\n",
    "y=int(input('enter the secound number : '))\n",
    "z=x+y\n",
    "print('{}  +  {}  =  {}'.format(x,y,z))"
   ]
  },
  {
   "cell_type": "markdown",
   "metadata": {},
   "source": [
    "# 3. find the sqrare root"
   ]
  },
  {
   "cell_type": "code",
   "execution_count": 7,
   "metadata": {},
   "outputs": [
    {
     "name": "stdout",
     "output_type": "stream",
     "text": [
      "enter the number : 4\n",
      "the square root of 4 is 2.0 \n"
     ]
    }
   ],
   "source": [
    "import math\n",
    "x=int(input('enter the number : '))\n",
    "y=math.sqrt(x)\n",
    "print('the square root of {} is {} '.format(x,y))"
   ]
  },
  {
   "cell_type": "markdown",
   "metadata": {},
   "source": [
    "# 4. calcluate the are of triangle"
   ]
  },
  {
   "cell_type": "code",
   "execution_count": 14,
   "metadata": {},
   "outputs": [
    {
     "name": "stdout",
     "output_type": "stream",
     "text": [
      "enter the base of triangle : 23\n",
      "enter the height of triangle : 45\n",
      "the are of triangle is 517.5\n"
     ]
    }
   ],
   "source": [
    "base = float(input('enter the base of triangle : '))\n",
    "height = float(input('enter the height of triangle : '))\n",
    "area=(1/2 * base*height)\n",
    "print('the are of triangle is {}'.format(area))"
   ]
  },
  {
   "cell_type": "markdown",
   "metadata": {},
   "source": [
    "# 5. solve the quadratic equation"
   ]
  },
  {
   "cell_type": "code",
   "execution_count": 28,
   "metadata": {},
   "outputs": [
    {
     "name": "stdout",
     "output_type": "stream",
     "text": [
      "enter the a : 1\n",
      "enter the b : 2\n",
      "enter the c : 3\n",
      "wrong quardict equation\n"
     ]
    }
   ],
   "source": [
    "import math\n",
    "a = float(input('enter the a : '))\n",
    "b = float(input('enter the b : '))\n",
    "c = float(input('enter the c : '))\n",
    "if b**2-(4*a*c)>0 :\n",
    "    x =((-b)+ math.sqrt(float((b**2)-(4*a*c))))//(2*a)\n",
    "    y =((-b)- math.sqrt(float((b**2)-(4*a*c))))//(2*a)\n",
    "    print('x = ',x)\n",
    "    print('y = ',y)\n",
    "else :\n",
    "    print('wrong quardict equation')"
   ]
  },
  {
   "cell_type": "markdown",
   "metadata": {},
   "source": [
    "\n",
    "# 6. swap two variable"
   ]
  },
  {
   "cell_type": "code",
   "execution_count": 16,
   "metadata": {},
   "outputs": [
    {
     "name": "stdout",
     "output_type": "stream",
     "text": [
      "enter the x number : 33\n",
      "enter the y number : 44\n",
      "x = 44\n",
      "y = 33\n"
     ]
    }
   ],
   "source": [
    "x = input('enter the x number : ')\n",
    "y = input('enter the y number : ')\n",
    "x,y = y,x\n",
    "print('x = {}\\ny = {}'.format(x,y))"
   ]
  },
  {
   "cell_type": "markdown",
   "metadata": {},
   "source": [
    "# 7. generate the random number"
   ]
  },
  {
   "cell_type": "code",
   "execution_count": 29,
   "metadata": {},
   "outputs": [
    {
     "name": "stdout",
     "output_type": "stream",
     "text": [
      "enter starting value : 1\n",
      "enter ending value : 78\n",
      "56\n",
      "33\n",
      "17\n",
      "3\n",
      "25\n",
      "31\n",
      "25\n",
      "28\n",
      "60\n"
     ]
    }
   ],
   "source": [
    "from random import randrange\n",
    "s=int(input('enter starting value : '))\n",
    "e=int(input('enter ending value : '))\n",
    "for var in range(1,10) :\n",
    "    x=randrange(s,e)\n",
    "    print(x)"
   ]
  },
  {
   "cell_type": "markdown",
   "metadata": {},
   "source": [
    "# 8. kilomiter convert into miles"
   ]
  },
  {
   "cell_type": "code",
   "execution_count": 31,
   "metadata": {},
   "outputs": [
    {
     "name": "stdout",
     "output_type": "stream",
     "text": [
      "enter the km : 1609\n",
      "miles =  999.7266129833979\n"
     ]
    }
   ],
   "source": [
    "km=float(input('enter the km : '))\n",
    "meter =km*1000\n",
    "miles=meter/1609.44\n",
    "print ('miles = ',miles)"
   ]
  },
  {
   "cell_type": "markdown",
   "metadata": {},
   "source": [
    "# 9.celcius convert in fahrenheit"
   ]
  },
  {
   "cell_type": "code",
   "execution_count": 32,
   "metadata": {},
   "outputs": [
    {
     "name": "stdout",
     "output_type": "stream",
     "text": [
      "enter the celcius : 0\n",
      "fahrenheit :  32.0\n"
     ]
    }
   ],
   "source": [
    "celcius=float(input('enter the celcius : '))\n",
    "fahrenheit=celcius*(9/5)+32\n",
    "print('fahrenheit : ',fahrenheit)"
   ]
  },
  {
   "cell_type": "markdown",
   "metadata": {},
   "source": [
    "# 10.check the number is positive,negtive and zero"
   ]
  },
  {
   "cell_type": "code",
   "execution_count": null,
   "metadata": {
    "collapsed": true
   },
   "outputs": [],
   "source": [
    "num=input('enter the number : ')\n",
    "if num>0 :\n",
    "    print('number is positive : ',num)\n",
    "elif num<0 :\n",
    "    print('number is negtive : ',num)\n",
    "else :\n",
    "    print('number is zero :',num)"
   ]
  }
 ],
 "metadata": {
  "kernelspec": {
   "display_name": "Python 3",
   "language": "python",
   "name": "python3"
  },
  "language_info": {
   "codemirror_mode": {
    "name": "ipython",
    "version": 3
   },
   "file_extension": ".py",
   "mimetype": "text/x-python",
   "name": "python",
   "nbconvert_exporter": "python",
   "pygments_lexer": "ipython3",
   "version": "3.6.3"
  }
 },
 "nbformat": 4,
 "nbformat_minor": 2
}
