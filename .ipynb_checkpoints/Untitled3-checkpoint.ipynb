{
 "cells": [
  {
   "cell_type": "code",
   "execution_count": 1,
   "metadata": {},
   "outputs": [
    {
     "ename": "IndentationError",
     "evalue": "unindent does not match any outer indentation level (<tokenize>, line 18)",
     "output_type": "error",
     "traceback": [
      "\u001b[1;36m  File \u001b[1;32m\"<tokenize>\"\u001b[1;36m, line \u001b[1;32m18\u001b[0m\n\u001b[1;33m    if z == 5 :\u001b[0m\n\u001b[1;37m    ^\u001b[0m\n\u001b[1;31mIndentationError\u001b[0m\u001b[1;31m:\u001b[0m unindent does not match any outer indentation level\n"
     ]
    }
   ],
   "source": [
    "from random import randrange\n",
    "while True :\n",
    "    x=randrange(1,50)\n",
    "    z=1\n",
    "    while z <= 5 :\n",
    "        user_number = int(input(\"guess a number and enter : \"))\n",
    "        if user_number < 1 or user_number >50 :\n",
    "           print(\"sorry enter the number only 1 to 50\")\n",
    "             continue\n",
    "        else :\n",
    "           if user_number < x :\n",
    "             print('think bigger number')\n",
    "           elif user_number > x :\n",
    "              print('think lower number ')\n",
    "           else :\n",
    "              print('you are the winner')\n",
    "                break\n",
    "       if z == 5 :\n",
    "            \n",
    "       z=z+1\n",
    "   w = input('if you play again then enter yes or no : ').strip().lower()\n",
    "   if w == 'yes' :\n",
    "      continue \n",
    "   else :\n",
    "      break\n",
    "    "
   ]
  },
  {
   "cell_type": "code",
   "execution_count": null,
   "metadata": {
    "collapsed": true
   },
   "outputs": [],
   "source": []
  },
  {
   "cell_type": "code",
   "execution_count": null,
   "metadata": {
    "collapsed": true
   },
   "outputs": [],
   "source": [
    "from random import randrange\n",
    "while True :\n",
    "    x=1\n",
    "    z = randrange(1,100)\n",
    "    while z<=5 :\n",
    "        user_guess = int(input('enter a number : '))\n",
    "        if z>50 or z<1 :\n",
    "            print('only enter the number in 1 to 50 range ')\n",
    "            continue\n",
    "        else :\n",
    "            if z < user_guess :\n",
    "                print('think lower number')\n",
    "            elif z > user_guess :\n",
    "                print('think greater number ')\n",
    "            else :\n",
    "                print('you are winner')\n",
    "                break\n",
    "        if x==5 :\n",
    "            print('computer guess number : ',z)\n",
    "            print('you are such a losser')\n",
    "            break\n",
    "        x=x+1\n",
    "        \n",
    "if True :\n",
    "    break"
   ]
  },
  {
   "cell_type": "code",
   "execution_count": 1,
   "metadata": {},
   "outputs": [
    {
     "name": "stdout",
     "output_type": "stream",
     "text": [
      "enter a number1\n",
      "think greater number \n",
      "enter a number2\n",
      "think greater number \n",
      "enter a number3\n",
      "think greater number \n",
      "enter a number4\n",
      "think greater number \n",
      "enter a number5\n",
      "think greater number \n",
      "you are a such losser\n",
      "computer guess number :  28\n",
      "do you play again enter yes or no yes\n",
      "enter a numbern\n"
     ]
    },
    {
     "ename": "ValueError",
     "evalue": "invalid literal for int() with base 10: 'n'",
     "output_type": "error",
     "traceback": [
      "\u001b[1;31m---------------------------------------------------------------------------\u001b[0m",
      "\u001b[1;31mValueError\u001b[0m                                Traceback (most recent call last)",
      "\u001b[1;32m<ipython-input-1-e27a5971ae85>\u001b[0m in \u001b[0;36m<module>\u001b[1;34m()\u001b[0m\n\u001b[0;32m      4\u001b[0m     \u001b[0mz\u001b[0m \u001b[1;33m=\u001b[0m \u001b[0mrandrange\u001b[0m\u001b[1;33m(\u001b[0m\u001b[1;36m1\u001b[0m\u001b[1;33m,\u001b[0m\u001b[1;36m100\u001b[0m\u001b[1;33m)\u001b[0m\u001b[1;33m\u001b[0m\u001b[0m\n\u001b[0;32m      5\u001b[0m     \u001b[1;32mwhile\u001b[0m \u001b[0mx\u001b[0m\u001b[1;33m<=\u001b[0m\u001b[1;36m5\u001b[0m \u001b[1;33m:\u001b[0m\u001b[1;33m\u001b[0m\u001b[0m\n\u001b[1;32m----> 6\u001b[1;33m         \u001b[0muser_guess\u001b[0m \u001b[1;33m=\u001b[0m \u001b[0mint\u001b[0m\u001b[1;33m(\u001b[0m\u001b[0minput\u001b[0m\u001b[1;33m(\u001b[0m\u001b[1;34m'enter a number'\u001b[0m\u001b[1;33m)\u001b[0m\u001b[1;33m)\u001b[0m\u001b[1;33m\u001b[0m\u001b[0m\n\u001b[0m\u001b[0;32m      7\u001b[0m         \u001b[1;32mif\u001b[0m \u001b[0mz\u001b[0m\u001b[1;33m>\u001b[0m\u001b[1;36m100\u001b[0m \u001b[1;32mor\u001b[0m \u001b[0mz\u001b[0m\u001b[1;33m<\u001b[0m\u001b[1;36m1\u001b[0m \u001b[1;33m:\u001b[0m\u001b[1;33m\u001b[0m\u001b[0m\n\u001b[0;32m      8\u001b[0m             \u001b[0mprint\u001b[0m\u001b[1;33m(\u001b[0m\u001b[1;34m'only enter the number in 1 to 100 range '\u001b[0m\u001b[1;33m)\u001b[0m\u001b[1;33m\u001b[0m\u001b[0m\n",
      "\u001b[1;31mValueError\u001b[0m: invalid literal for int() with base 10: 'n'"
     ]
    }
   ],
   "source": [
    "from random import randrange\n",
    "while True :\n",
    "    x=1\n",
    "    z = randrange(1,100)\n",
    "    while x<=5 :\n",
    "        user_guess = int(input('enter a number'))\n",
    "        if z>100 or z<1 :\n",
    "            print('only enter the number in 1 to 100 range ')\n",
    "            continue\n",
    "        else :\n",
    "            if z < user_guess :\n",
    "                print('think lower number')\n",
    "            elif z > user_guess :\n",
    "                print('think greater number ')\n",
    "            else :\n",
    "                print('you are winner')\n",
    "                break\n",
    "        if x==5 :\n",
    "            print('you are a such losser')\n",
    "            print('computer guess number : ',z)\n",
    "        x=x+1\n",
    "    ch=input('do you play again enter yes or no ').strip().lower()\n",
    "    if ch == 'yes' :\n",
    "        continue\n",
    "    else :\n",
    "        break"
   ]
  },
  {
   "cell_type": "code",
   "execution_count": null,
   "metadata": {
    "collapsed": true
   },
   "outputs": [],
   "source": [
    "\n"
   ]
  },
  {
   "cell_type": "code",
   "execution_count": 5,
   "metadata": {},
   "outputs": [
    {
     "name": "stdout",
     "output_type": "stream",
     "text": [
      "before function x=  10\n",
      "in function x =  13\n",
      "after function x =  13\n"
     ]
    }
   ],
   "source": [
    "x=10\n",
    "def fun() :\n",
    "    global x\n",
    "    x=x+3\n",
    "    print('in function x = ',x)\n",
    "print('before function x= ',x)\n",
    "fun()\n",
    "print('after function x = ',x)"
   ]
  },
  {
   "cell_type": "code",
   "execution_count": 16,
   "metadata": {},
   "outputs": [
    {
     "ename": "SyntaxError",
     "evalue": "can't assign to lambda (<ipython-input-16-ffecccfb4ef5>, line 1)",
     "output_type": "error",
     "traceback": [
      "\u001b[1;36m  File \u001b[1;32m\"<ipython-input-16-ffecccfb4ef5>\"\u001b[1;36m, line \u001b[1;32m1\u001b[0m\n\u001b[1;33m    b = lambda x : fact=fact*b(x-1)\u001b[0m\n\u001b[1;37m       ^\u001b[0m\n\u001b[1;31mSyntaxError\u001b[0m\u001b[1;31m:\u001b[0m can't assign to lambda\n"
     ]
    }
   ],
   "source": [
    "b = lambda x : fact=fact*b(x-1)"
   ]
  },
  {
   "cell_type": "code",
   "execution_count": 27,
   "metadata": {},
   "outputs": [
    {
     "ename": "NameError",
     "evalue": "name 'c' is not defined",
     "output_type": "error",
     "traceback": [
      "\u001b[1;31m---------------------------------------------------------------------------\u001b[0m",
      "\u001b[1;31mNameError\u001b[0m                                 Traceback (most recent call last)",
      "\u001b[1;32m<ipython-input-27-438a221f1fac>\u001b[0m in \u001b[0;36m<module>\u001b[1;34m()\u001b[0m\n\u001b[1;32m----> 1\u001b[1;33m \u001b[0mhello\u001b[0m\u001b[1;33m=\u001b[0m\u001b[1;32mlambda\u001b[0m \u001b[0mc\u001b[0m\u001b[1;33m:\u001b[0m \u001b[0mc\u001b[0m \u001b[1;32mif\u001b[0m \u001b[0mc\u001b[0m\u001b[1;33m==\u001b[0m\u001b[1;36m10\u001b[0m \u001b[1;32melse\u001b[0m \u001b[0mprint\u001b[0m\u001b[1;33m(\u001b[0m\u001b[1;34m'hello world'\u001b[0m\u001b[1;33m)\u001b[0m\u001b[1;33m,\u001b[0m\u001b[0mc\u001b[0m\u001b[1;33m\u001b[0m\u001b[0m\n\u001b[0m",
      "\u001b[1;31mNameError\u001b[0m: name 'c' is not defined"
     ]
    }
   ],
   "source": [
    "hello=lambda c: c if c==10 else print('hello world'),c"
   ]
  },
  {
   "cell_type": "code",
   "execution_count": 28,
   "metadata": {},
   "outputs": [
    {
     "ename": "NameError",
     "evalue": "name 'hello' is not defined",
     "output_type": "error",
     "traceback": [
      "\u001b[1;31m---------------------------------------------------------------------------\u001b[0m",
      "\u001b[1;31mNameError\u001b[0m                                 Traceback (most recent call last)",
      "\u001b[1;32m<ipython-input-28-e35132e5d1c7>\u001b[0m in \u001b[0;36m<module>\u001b[1;34m()\u001b[0m\n\u001b[1;32m----> 1\u001b[1;33m \u001b[0mhello\u001b[0m\u001b[1;33m(\u001b[0m\u001b[1;36m1\u001b[0m\u001b[1;33m)\u001b[0m\u001b[1;33m\u001b[0m\u001b[0m\n\u001b[0m",
      "\u001b[1;31mNameError\u001b[0m: name 'hello' is not defined"
     ]
    }
   ],
   "source": [
    "hello(1)"
   ]
  },
  {
   "cell_type": "code",
   "execution_count": 26,
   "metadata": {},
   "outputs": [
    {
     "name": "stdout",
     "output_type": "stream",
     "text": [
      "1 2 3 4 56 78 90 6 77 99\n",
      "[False, True, False, True, True, True, True, True, False, False]\n"
     ]
    }
   ],
   "source": [
    "x= list(map(int,input().split()))\n",
    "print(list(map(lambda x :True if x%2==0 else  False,x)))"
   ]
  },
  {
   "cell_type": "code",
   "execution_count": 2,
   "metadata": {},
   "outputs": [],
   "source": [
    "def get_name() :\n",
    "    name=input('enter your name : ')\n",
    "    print(\"wellcome {} in python function\".format(name))"
   ]
  },
  {
   "cell_type": "code",
   "execution_count": 3,
   "metadata": {},
   "outputs": [
    {
     "name": "stdout",
     "output_type": "stream",
     "text": [
      "enter your name : aman raghav\n",
      "wellcome aman raghav in python function\n"
     ]
    }
   ],
   "source": [
    "get_name()"
   ]
  },
  {
   "cell_type": "code",
   "execution_count": 10,
   "metadata": {},
   "outputs": [],
   "source": [
    "def cal(x,y,ch) :\n",
    "    ch=ch.strip()\n",
    "    if ch == '+' :\n",
    "        return x+y\n",
    "    elif ch =='-' :\n",
    "        return x-y\n",
    "    elif ch == '*' :\n",
    "        return x*y\n",
    "    elif ch == '**' :\n",
    "        return x**y\n",
    "    elif ch == '//' or ch =='/'or ch =='%' :\n",
    "        if y == 0 :\n",
    "            print('Error!can\\'t divide by zero' )\n",
    "        else :\n",
    "            if ch =='//' :\n",
    "                return x//y\n",
    "            elif ch=='/' :\n",
    "                return x/y\n",
    "            else :\n",
    "                return x%y\n",
    "    else :\n",
    "        print('this is not a operator')\n",
    "    \n",
    "    "
   ]
  },
  {
   "cell_type": "code",
   "execution_count": null,
   "metadata": {},
   "outputs": [
    {
     "name": "stdout",
     "output_type": "stream",
     "text": [
      "enter the number of x 99999\n",
      "enter the number of y 999999999999\n",
      "enter the number of OPerator **\n"
     ]
    }
   ],
   "source": [
    "x=int(input('enter the number of x '))\n",
    "y=int(input('enter the number of y '))\n",
    "ch=input('enter the number of OPerator ')\n",
    "z=cal(x,y,ch)\n",
    "print(z)"
   ]
  },
  {
   "cell_type": "code",
   "execution_count": 16,
   "metadata": {
    "collapsed": true
   },
   "outputs": [],
   "source": [
    "def convert_dict(p,q,r,s) :\n",
    "    \"\"\"convert_dict(p,q,r,s)-> this function take for tuple and convert into dictionary\"\"\"\n",
    "    a=[p,q,r,s]\n",
    "    dic = dict(a)\n",
    "    return dic"
   ]
  },
  {
   "cell_type": "code",
   "execution_count": 18,
   "metadata": {},
   "outputs": [
    {
     "name": "stdout",
     "output_type": "stream",
     "text": [
      "enter the first value and key a=d\n",
      "enter the first value and key sd=sd\n",
      "enter the first value and key c=d\n",
      "enter the first value and key cd=vvf\n",
      "{'a': 'd', 'sd': 'sd', 'c': 'd', 'cd': 'vvf'}\n",
      "<class 'dict'>\n",
      "doc =  convert_dict(p,q,r,s)-> this function take for tuple and convert into dictionary\n"
     ]
    }
   ],
   "source": [
    "qq = input('enter the first value and key ').split('=')\n",
    "ww = input('enter the first value and key ').split('=')\n",
    "ee = input('enter the first value and key ').split('=')\n",
    "rr = input('enter the first value and key ').split('=')\n",
    "x = convert_dict(qq,ww,ee,rr)\n",
    "print(x)\n",
    "print(type(x))\n",
    "print('doc = ',convert_dict.__doc__)"
   ]
  },
  {
   "cell_type": "code",
   "execution_count": 39,
   "metadata": {},
   "outputs": [
    {
     "name": "stdout",
     "output_type": "stream",
     "text": [
      "<class 'dict'>\n",
      "value  aman = ashu\n"
     ]
    }
   ],
   "source": [
    "def hello(**args) :\n",
    "    print(type(args))\n",
    "    for key,value in args.items() :\n",
    "        print('value  {} = {}'.format(key,value))\n",
    "hello(aman='ashu')"
   ]
  },
  {
   "cell_type": "code",
   "execution_count": 41,
   "metadata": {},
   "outputs": [
    {
     "name": "stdout",
     "output_type": "stream",
     "text": [
      "<class 'dict'>\n",
      "value  user = ['ram', 'sam', 'vijay']\n",
      "value  acc = [1001, 1002, 1003]\n",
      "value  password = ['grras@123', 'something', 'redhat']\n",
      "value  balance = [10000.23, 20000.45, 124322.234]\n"
     ]
    }
   ],
   "source": [
    "bank = {\"user\": [\"ram\", \"sam\", \"vijay\"], \"acc\": [1001, 1002, 1003], \"password\": [\"grras@123\", \"something\", \"redhat\"],\n",
    "        \"balance\": [10000.23, 20000.45, 124322.234]}\n",
    "hello(**bank)"
   ]
  },
  {
   "cell_type": "code",
   "execution_count": 25,
   "metadata": {},
   "outputs": [
    {
     "name": "stdout",
     "output_type": "stream",
     "text": [
      "<class 'tuple'>\n",
      "value 1 : one\n",
      "value 2 : two\n",
      "\n",
      "\n",
      "\n",
      "<class 'tuple'>\n",
      "value 1 : hello\n",
      "value 2 : hi\n",
      "value 3 : how\n",
      "value 4 : are\n",
      "value 5 : you\n"
     ]
    }
   ],
   "source": [
    "def info(*args):\n",
    "    print(type(args))\n",
    "    c = 1\n",
    "    for var in args :\n",
    "        print(\"value {} : {}\".format(c,var))\n",
    "        c = c + 1\n",
    "info('one','two')\n",
    "print(\"\\n\\n\")\n",
    "info('hello','hi','how','are','you')"
   ]
  },
  {
   "cell_type": "code",
   "execution_count": 45,
   "metadata": {},
   "outputs": [],
   "source": [
    "def fact(num) :\n",
    "    if num==1 :\n",
    "        return 1\n",
    "    else :\n",
    "        num = num*fact(num-1)\n",
    "        return num\n",
    "    "
   ]
  },
  {
   "cell_type": "code",
   "execution_count": 46,
   "metadata": {},
   "outputs": [
    {
     "name": "stdout",
     "output_type": "stream",
     "text": [
      "enter the number : 5\n",
      "120\n"
     ]
    }
   ],
   "source": [
    "num= int(input('enter the number : '))\n",
    "s=fact(num)\n",
    "print(s)"
   ]
  },
  {
   "cell_type": "code",
   "execution_count": 51,
   "metadata": {
    "collapsed": true
   },
   "outputs": [],
   "source": [
    "def count_digit(num) :\n",
    "    count =0\n",
    "    while num :\n",
    "        num=num//10\n",
    "        count +=1\n",
    "    return count"
   ]
  },
  {
   "cell_type": "code",
   "execution_count": 52,
   "metadata": {},
   "outputs": [
    {
     "name": "stdout",
     "output_type": "stream",
     "text": [
      "4\n"
     ]
    }
   ],
   "source": [
    "s=count_digit(8888)\n",
    "print(s)"
   ]
  },
  {
   "cell_type": "code",
   "execution_count": 8,
   "metadata": {},
   "outputs": [
    {
     "ename": "NameError",
     "evalue": "name 'count_digit' is not defined",
     "output_type": "error",
     "traceback": [
      "\u001b[1;31m---------------------------------------------------------------------------\u001b[0m",
      "\u001b[1;31mNameError\u001b[0m                                 Traceback (most recent call last)",
      "\u001b[1;32m<ipython-input-8-9799dda9c080>\u001b[0m in \u001b[0;36m<module>\u001b[1;34m()\u001b[0m\n\u001b[0;32m     11\u001b[0m     \u001b[1;32melse\u001b[0m \u001b[1;33m:\u001b[0m\u001b[1;33m\u001b[0m\u001b[0m\n\u001b[0;32m     12\u001b[0m         \u001b[1;32mreturn\u001b[0m \u001b[1;32mFalse\u001b[0m\u001b[1;33m\u001b[0m\u001b[0m\n\u001b[1;32m---> 13\u001b[1;33m \u001b[0mf\u001b[0m\u001b[1;33m=\u001b[0m\u001b[0mcheck_armstrong\u001b[0m\u001b[1;33m(\u001b[0m\u001b[1;36m371\u001b[0m\u001b[1;33m)\u001b[0m\u001b[1;33m\u001b[0m\u001b[0m\n\u001b[0m\u001b[0;32m     14\u001b[0m \u001b[0mprint\u001b[0m\u001b[1;33m(\u001b[0m\u001b[0mf\u001b[0m\u001b[1;33m)\u001b[0m\u001b[1;33m\u001b[0m\u001b[0m\n",
      "\u001b[1;32m<ipython-input-8-9799dda9c080>\u001b[0m in \u001b[0;36mcheck_armstrong\u001b[1;34m(num)\u001b[0m\n\u001b[0;32m      1\u001b[0m \u001b[1;32mdef\u001b[0m \u001b[0mcheck_armstrong\u001b[0m\u001b[1;33m(\u001b[0m\u001b[0mnum\u001b[0m\u001b[1;33m)\u001b[0m \u001b[1;33m:\u001b[0m\u001b[1;33m\u001b[0m\u001b[0m\n\u001b[1;32m----> 2\u001b[1;33m     \u001b[0ms\u001b[0m\u001b[1;33m=\u001b[0m\u001b[0mcount_digit\u001b[0m\u001b[1;33m(\u001b[0m\u001b[0mnum\u001b[0m\u001b[1;33m)\u001b[0m\u001b[1;33m\u001b[0m\u001b[0m\n\u001b[0m\u001b[0;32m      3\u001b[0m     \u001b[0mz\u001b[0m\u001b[1;33m=\u001b[0m\u001b[0mnum\u001b[0m\u001b[1;33m\u001b[0m\u001b[0m\n\u001b[0;32m      4\u001b[0m     \u001b[0mc\u001b[0m\u001b[1;33m=\u001b[0m\u001b[1;36m0\u001b[0m\u001b[1;33m\u001b[0m\u001b[0m\n\u001b[0;32m      5\u001b[0m     \u001b[1;32mwhile\u001b[0m \u001b[0mnum\u001b[0m \u001b[1;33m:\u001b[0m\u001b[1;33m\u001b[0m\u001b[0m\n",
      "\u001b[1;31mNameError\u001b[0m: name 'count_digit' is not defined"
     ]
    }
   ],
   "source": [
    "def check_armstrong(num) :\n",
    "    s=count_digit(num)\n",
    "    z=num\n",
    "    c=0\n",
    "    while num :\n",
    "        x=num%10\n",
    "        c=c+x**s\n",
    "        num=num//10\n",
    "    if z==c :\n",
    "        return True\n",
    "    else :\n",
    "        return False\n",
    "f=check_armstrong(371)\n",
    "print(f)"
   ]
  },
  {
   "cell_type": "code",
   "execution_count": 6,
   "metadata": {},
   "outputs": [
    {
     "ename": "NameError",
     "evalue": "name 'check_armstrong' is not defined",
     "output_type": "error",
     "traceback": [
      "\u001b[1;31m---------------------------------------------------------------------------\u001b[0m",
      "\u001b[1;31mNameError\u001b[0m                                 Traceback (most recent call last)",
      "\u001b[1;32m<ipython-input-6-9554be75e324>\u001b[0m in \u001b[0;36m<module>\u001b[1;34m()\u001b[0m\n\u001b[1;32m----> 1\u001b[1;33m \u001b[0mf\u001b[0m\u001b[1;33m=\u001b[0m\u001b[0mcheck_armstrong\u001b[0m\u001b[1;33m(\u001b[0m\u001b[1;36m371\u001b[0m\u001b[1;33m)\u001b[0m\u001b[1;33m\u001b[0m\u001b[0m\n\u001b[0m\u001b[0;32m      2\u001b[0m \u001b[0mprint\u001b[0m\u001b[1;33m(\u001b[0m\u001b[0mf\u001b[0m\u001b[1;33m)\u001b[0m\u001b[1;33m\u001b[0m\u001b[0m\n",
      "\u001b[1;31mNameError\u001b[0m: name 'check_armstrong' is not defined"
     ]
    }
   ],
   "source": []
  },
  {
   "cell_type": "code",
   "execution_count": null,
   "metadata": {
    "collapsed": true
   },
   "outputs": [],
   "source": []
  }
 ],
 "metadata": {
  "kernelspec": {
   "display_name": "Python 3",
   "language": "python",
   "name": "python3"
  },
  "language_info": {
   "codemirror_mode": {
    "name": "ipython",
    "version": 3
   },
   "file_extension": ".py",
   "mimetype": "text/x-python",
   "name": "python",
   "nbconvert_exporter": "python",
   "pygments_lexer": "ipython3",
   "version": "3.6.3"
  }
 },
 "nbformat": 4,
 "nbformat_minor": 2
}
