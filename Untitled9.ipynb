{
 "cells": [
  {
   "cell_type": "code",
   "execution_count": 7,
   "metadata": {},
   "outputs": [
    {
     "name": "stdout",
     "output_type": "stream",
     "text": [
      "*    \n",
      "*    *    \n",
      "*    *    *    \n",
      "*    *    *    *    \n",
      "*    *    *    *    *    \n",
      "*    *    *    *    *    *    \n",
      "*    *    *    *    *    *    *    \n",
      "*    *    *    *    *    *    *    *    \n",
      "*    *    *    *    *    *    *    *    *    \n"
     ]
    }
   ],
   "source": [
    "for i in range(10) :\n",
    "    if i == 9 :\n",
    "            break \n",
    "    for j in range(i+1) :\n",
    "        print('*    ',end='')\n",
    "    print('')  \n",
    "   "
   ]
  },
  {
   "cell_type": "code",
   "execution_count": null,
   "metadata": {
    "collapsed": true
   },
   "outputs": [],
   "source": []
  },
  {
   "cell_type": "code",
   "execution_count": 9,
   "metadata": {},
   "outputs": [
    {
     "name": "stdout",
     "output_type": "stream",
     "text": [
      "*    *    *    *    *    *    *    *    *    \n",
      "*    *    *    *    *    *    *    *    \n",
      "*    *    *    *    *    *    *    \n",
      "*    *    *    *    *    *    \n",
      "*    *    *    *    *    \n",
      "*    *    *    *    \n",
      "*    *    *    \n",
      "*    *    \n",
      "*    \n"
     ]
    }
   ],
   "source": [
    "for i in range(10,1,-1) :\n",
    "    for j in range(i-1,0,-1) :\n",
    "        print('*    ',end='')\n",
    "    print('')"
   ]
  },
  {
   "cell_type": "code",
   "execution_count": 54,
   "metadata": {},
   "outputs": [
    {
     "name": "stdout",
     "output_type": "stream",
     "text": [
      "enter a number : 33\n",
      "*  ******************\n",
      "*  *\n",
      "*  *\n",
      "*  *\n",
      "*  *\n",
      "*  *\n",
      "*  *\n",
      "*  *\n",
      "*  *\n",
      "*  *\n",
      "*  *\n",
      "*  *\n",
      "*  *\n",
      "*  *\n",
      "*  *\n",
      "*  *\n",
      "*********************************\n",
      " *  *\n",
      " *  *\n",
      " *  *\n",
      " *  *\n",
      " *  *\n",
      " *  *\n",
      " *  *\n",
      " *  *\n",
      " *  *\n",
      " *  *\n",
      " *  *\n",
      " *  *\n",
      " *  *\n",
      " *  *\n",
      " *  *\n",
      "*************** *  *\n"
     ]
    }
   ],
   "source": [
    "n = int(input('enter a number : '))\n",
    "if n%2 == 0:\n",
    "        n+=1\n",
    "for row in range(1,n+1) :\n",
    "    if row == 1 :\n",
    "        print('* ',' '*(n//2+1),'* '*(n//2+2))\n",
    "    elif row<=n//2 :\n",
    "        print('* ',' '*(n//2+1),'* ')\n",
    "    elif  row<=n//2+1 :\n",
    "        print('*'*n)\n",
    "    elif row<=n-1 :\n",
    "        print(''*(n//2+1),'*',''*(n-1),'*')\n",
    "    else :\n",
    "        print('*'*(n//2-1),'*',''*(n-2),'*')\n",
    "    "
   ]
  },
  {
   "cell_type": "markdown",
   "metadata": {
    "collapsed": true
   },
   "source": [
    "## "
   ]
  },
  {
   "cell_type": "code",
   "execution_count": null,
   "metadata": {
    "collapsed": true
   },
   "outputs": [],
   "source": []
  }
 ],
 "metadata": {
  "kernelspec": {
   "display_name": "Python 3",
   "language": "python",
   "name": "python3"
  },
  "language_info": {
   "codemirror_mode": {
    "name": "ipython",
    "version": 3
   },
   "file_extension": ".py",
   "mimetype": "text/x-python",
   "name": "python",
   "nbconvert_exporter": "python",
   "pygments_lexer": "ipython3",
   "version": "3.6.3"
  }
 },
 "nbformat": 4,
 "nbformat_minor": 2
}
