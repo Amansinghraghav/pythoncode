{
 "cells": [
  {
   "cell_type": "markdown",
   "metadata": {},
   "source": [
    "# Opertors in python"
   ]
  },
  {
   "cell_type": "markdown",
   "metadata": {},
   "source": [
    "1. Airthmatic Operator\n",
    "2. Comparision Operator\n",
    "3. Logical Operator\n",
    "4. Assignment Operator\n",
    "5. Binary Operator\n",
    "6. Identity Operator\n",
    "7. Membership Operator"
   ]
  },
  {
   "cell_type": "markdown",
   "metadata": {},
   "source": [
    "# Airthmatic Operator"
   ]
  },
  {
   "cell_type": "markdown",
   "metadata": {},
   "source": [
    "1. Addition Operator ( + )\n",
    "2. Subtraction Operator ( - )\n",
    "3. Multipication Operator ( * )\n",
    "4. Division Operator ( / )\n",
    "5. Floor Division Operator ( // )\n",
    "6. Exponent Operator ( ** )"
   ]
  },
  {
   "cell_type": "code",
   "execution_count": 13,
   "metadata": {},
   "outputs": [
    {
     "name": "stdout",
     "output_type": "stream",
     "text": [
      "5\t +\t 7\t=\t12\n",
      "hello\t +\t  world\t =\thello world\n",
      "[1, 2, 3, 4, 5]\t +\t [5, 6, 7, 8, 9]\t =\t[1, 2, 3, 4, 5, 5, 6, 7, 8, 9]\n",
      "('one', 1, 4, 5, 'six')\t +\t ('seven', 8, 9, 'ten')\t =\t('one', 1, 4, 5, 'six', 'seven', 8, 9, 'ten')\n"
     ]
    },
    {
     "data": {
      "text/plain": [
       "' Sets can not be processed by Airthmatic Operators\\ns1 = { 1,2,3 }\\ns2 = { 4,5,6 }\\nprint(s1+s2)\\n'"
      ]
     },
     "execution_count": 13,
     "metadata": {},
     "output_type": "execute_result"
    }
   ],
   "source": [
    "# Addition Operator\n",
    "i1 = 5\n",
    "i2 = 7\n",
    "print('{}\\t +\\t {}\\t=\\t{}'.format(i1 , i2 ,i1 + i2)) # two numbers are add\n",
    "\n",
    "s1 = 'hello'\n",
    "s2 = ' world'\n",
    "print('{}\\t +\\t {}\\t =\\t{}'.format(s1,s2,s1+s2)) # two string are add\n",
    "\n",
    "l1=[1,2,3,4,5]\n",
    "l2=[5,6,7,8,9]\n",
    "print('{}\\t +\\t {}\\t =\\t{}'.format(l1,l2,l1+l2)) # two list are concatinated\n",
    "\n",
    "t1 = ('one' , 1 , 4 , 5 ,'six')\n",
    "t2 = ('seven' , 8 , 9 , 'ten')\n",
    "print('{}\\t +\\t {}\\t =\\t{}'.format(t1,t2,t1+t2)) # two tuple are concatinated\n",
    "\n",
    "''' Dictionary can not be processed by Airthmatic Operators\n",
    "d = { 1:'one',2:'two'}\n",
    "d1 = { 3:'three',4:'four'}\n",
    "print(d+d1)\n",
    "'''\n",
    "''' Sets can not be processed by Airthmatic Operators\n",
    "s1 = { 1,2,3 }\n",
    "s2 = { 4,5,6 }\n",
    "print(s1+s2)\n",
    "'''"
   ]
  },
  {
   "cell_type": "code",
   "execution_count": 16,
   "metadata": {},
   "outputs": [
    {
     "name": "stdout",
     "output_type": "stream",
     "text": [
      "4\t -\t 7\t =\t-3\n"
     ]
    }
   ],
   "source": [
    "#  Subtraction\n",
    "x , y = 4 ,7\n",
    "print('{}\\t -\\t {}\\t =\\t{}'.format(x,y,x-y))\n",
    "#s = 'hello'\n",
    "#l = 'world'\n",
    "#print(s-l)\n",
    "#l1 = [ 1,2,3]\n",
    "#l2 = [ 4,5,6]\n",
    "#print(l1-l2)"
   ]
  },
  {
   "cell_type": "code",
   "execution_count": 26,
   "metadata": {},
   "outputs": [
    {
     "name": "stdout",
     "output_type": "stream",
     "text": [
      "6\t *\t 2\t =\t12\n",
      "hello hello hello \n",
      "world world world world world \n"
     ]
    }
   ],
   "source": [
    "# Multiply\n",
    "x , y = 6 ,2\n",
    "print('{}\\t *\\t {}\\t =\\t{}'.format(x,y,x*y))\n",
    "\n",
    "s1 = 'hello '\n",
    "s2 = 'world '\n",
    "#print('{}\\t *\\t {}\\t =\\t{}'.format(s1,s2,s1*s2))\n",
    "print(s1*3)\n",
    "print(5*s2)\n",
    "l1 =[1,2,3]\n",
    "#l2 = [ 4,5,6]\n",
    "#print(l1*l2)\n",
    "print(l1*3)"
   ]
  },
  {
   "cell_type": "code",
   "execution_count": 30,
   "metadata": {},
   "outputs": [
    {
     "name": "stdout",
     "output_type": "stream",
     "text": [
      "6\t /\t 2\t =\t3.0\n",
      "6\t *\t 2\t =\t3\n",
      "6\t *\t 2\t =\t0\n"
     ]
    }
   ],
   "source": [
    "# Division Operator\n",
    "x = 6\n",
    "y = 2\n",
    "print('{}\\t /\\t {}\\t =\\t{}'.format(x,y,x/y)) # Absolute division\n",
    "print('{}\\t *\\t {}\\t =\\t{}'.format(x,y,x//y)) # Quitont\n",
    "print('{}\\t *\\t {}\\t =\\t{}'.format(x,y,x%y))  # Remainder "
   ]
  },
  {
   "cell_type": "markdown",
   "metadata": {
    "collapsed": true
   },
   "source": [
    "# Comparision Operator"
   ]
  },
  {
   "cell_type": "markdown",
   "metadata": {},
   "source": [
    "1. Less Then (<)\n",
    "2. Less Than Equal (<=)\n",
    "3. Greater Than (>)\n",
    "4. Greater Than Equal (>=)\n",
    "5. Equals to Equals (==)\n",
    "6. Not Equals To (!=)"
   ]
  },
  {
   "cell_type": "code",
   "execution_count": 1,
   "metadata": {},
   "outputs": [
    {
     "name": "stdout",
     "output_type": "stream",
     "text": [
      "6 < 8  True\n",
      "8 < 6  False\n",
      "6 <= 6  True\n",
      "6 <= 3  False\n",
      "5 > 6  False\n",
      "6 > 5  True\n",
      "6 >= 6  True\n",
      "6 >= 5  True\n",
      "6 == 6  True\n",
      "6 == 7  False\n",
      "6 != 6  False\n",
      "6 != 7  True\n"
     ]
    }
   ],
   "source": [
    "print(\"6 < 8 \", 6 < 8)\n",
    "print(\"8 < 6 \", 8 < 6)\n",
    "print(\"6 <= 6 \", 6 <= 6)\n",
    "print(\"6 <= 3 \", 6 <= 3)\n",
    "print(\"5 > 6 \", 5 > 6)\n",
    "print(\"6 > 5 \", 6 > 5 )\n",
    "print(\"6 >= 6 \", 6 >= 6)\n",
    "print(\"6 >= 5 \", 6 >= 5)\n",
    "print(\"6 == 6 \", 6 == 6)\n",
    "print(\"6 == 7 \",6 == 7)\n",
    "print(\"6 != 6 \", 6 != 6)\n",
    "print(\"6 != 7 \", 6 != 7)"
   ]
  },
  {
   "cell_type": "markdown",
   "metadata": {},
   "source": [
    "# Logical Operator"
   ]
  },
  {
   "cell_type": "markdown",
   "metadata": {},
   "source": [
    "1. and\n",
    "2. or\n",
    "3. not"
   ]
  },
  {
   "cell_type": "code",
   "execution_count": 6,
   "metadata": {},
   "outputs": [
    {
     "name": "stdout",
     "output_type": "stream",
     "text": [
      "0\n",
      "False\n",
      "False\n"
     ]
    }
   ],
   "source": [
    "print( 6-4*3+6 and 6 < 5 )\n",
    "print( 6-4*3+6 or 6 < 5)\n",
    "print( not True )"
   ]
  },
  {
   "cell_type": "code",
   "execution_count": 7,
   "metadata": {},
   "outputs": [
    {
     "name": "stdout",
     "output_type": "stream",
     "text": [
      "-12\n",
      "None\n"
     ]
    }
   ],
   "source": [
    "print( 6 and -12)\n",
    "print( 1 and None)"
   ]
  },
  {
   "cell_type": "code",
   "execution_count": 8,
   "metadata": {},
   "outputs": [
    {
     "name": "stdout",
     "output_type": "stream",
     "text": [
      "{1: 'one'}\n"
     ]
    }
   ],
   "source": [
    "print( [1,2,3] and { 1 : 'one'})"
   ]
  },
  {
   "cell_type": "code",
   "execution_count": 9,
   "metadata": {},
   "outputs": [
    {
     "name": "stdout",
     "output_type": "stream",
     "text": [
      "something\n"
     ]
    }
   ],
   "source": [
    "#Assignment Operators \n",
    "x = 'something'\n",
    "print(x)"
   ]
  },
  {
   "cell_type": "code",
   "execution_count": 10,
   "metadata": {},
   "outputs": [
    {
     "name": "stdout",
     "output_type": "stream",
     "text": [
      "14.0\n"
     ]
    }
   ],
   "source": [
    "k = ( (6*5/2-5) and (6<4 or 3 > 6) ) or (10/2*3-1)\n",
    "print(k)"
   ]
  },
  {
   "cell_type": "code",
   "execution_count": 11,
   "metadata": {},
   "outputs": [
    {
     "name": "stdout",
     "output_type": "stream",
     "text": [
      "6 5\n",
      "10 -2 60\n"
     ]
    }
   ],
   "source": [
    "x = 5\n",
    "y = 6\n",
    "x,y=y,x\n",
    "print(x,y)\n",
    "a = 4\n",
    "b = 6\n",
    "c  = 10\n",
    "a,b,c=a+b,a-b,c*b\n",
    "print(a,b,c)"
   ]
  },
  {
   "cell_type": "markdown",
   "metadata": {},
   "source": [
    "# Membership Operator"
   ]
  },
  {
   "cell_type": "code",
   "execution_count": 12,
   "metadata": {},
   "outputs": [
    {
     "name": "stdout",
     "output_type": "stream",
     "text": [
      "True\n"
     ]
    }
   ],
   "source": [
    "# in and not in\n",
    "s1 = 'dog is a animal'\n",
    "s2 ='dog'\n",
    "print(s2 in s1)"
   ]
  },
  {
   "cell_type": "code",
   "execution_count": 15,
   "metadata": {},
   "outputs": [
    {
     "name": "stdout",
     "output_type": "stream",
     "text": [
      "True\n",
      "True\n",
      "True\n"
     ]
    }
   ],
   "source": [
    "l1 = [1,2,3,[4,5,6],7]\n",
    "l2 = [4,5,6]\n",
    "l3 = 7\n",
    "l4 = 8\n",
    "print(l2 in l1)\n",
    "print(l3  in l1)\n",
    "print(l4 not in l1)"
   ]
  },
  {
   "cell_type": "code",
   "execution_count": 17,
   "metadata": {},
   "outputs": [
    {
     "name": "stdout",
     "output_type": "stream",
     "text": [
      "Enter a number : 6\n",
      "Number found in list\n"
     ]
    }
   ],
   "source": [
    "l = [ 1,2,6,324,23,4234,54,2342,3432]\n",
    "if int(input(\"Enter a number : \")) in l : \n",
    "    print(\"Number found in list\")\n",
    "else :\n",
    "    print(\"No such number in our list\")"
   ]
  },
  {
   "cell_type": "code",
   "execution_count": 18,
   "metadata": {},
   "outputs": [
    {
     "name": "stdout",
     "output_type": "stream",
     "text": [
      "Player1 : ········\n",
      "Player2 : ········\n",
      "Choice player1 :  h\n",
      "Choice player2 :  g\n"
     ]
    }
   ],
   "source": [
    "from getpass import getpass\n",
    "p1 = getpass(\"Player1 : \")\n",
    "p2 = getpass(\"Player2 : \")\n",
    "print(\"Choice player1 : \",p1)\n",
    "print(\"Choice player2 : \",p2)"
   ]
  },
  {
   "cell_type": "code",
   "execution_count": 19,
   "metadata": {},
   "outputs": [
    {
     "name": "stdout",
     "output_type": "stream",
     "text": [
      "Player1: ········\n",
      "Player2: ········\n",
      "Player1 is the Winner\n"
     ]
    }
   ],
   "source": [
    "#Rock Paper Scissor\n",
    "p1 = [ ('r','s'),('p','r'),('s','p')]\n",
    "from getpass import getpass\n",
    "ch1 = getpass(\"Player1: \")\n",
    "ch2 = getpass(\"Player2: \")\n",
    "if ch1 == ch2 : \n",
    "    print(\"Match Tie\")\n",
    "elif (ch1,ch2) in p1 :\n",
    "    print(\"Player1 is the Winner\")\n",
    "else :\n",
    "    print(\"Player2 is the Winner\")"
   ]
  },
  {
   "cell_type": "code",
   "execution_count": 20,
   "metadata": {},
   "outputs": [
    {
     "name": "stdout",
     "output_type": "stream",
     "text": [
      "Player1 (r,p,s) : ········\n",
      "Player2 (r,p,s) : ········\n",
      "Player Wins\n"
     ]
    }
   ],
   "source": [
    "from getpass import getpass\n",
    "p1 = getpass(\"Player1 (r,p,s) : \").strip().lower()\n",
    "p2 = getpass(\"Player2 (r,p,s) : \").strip().lower()\n",
    "\n",
    "if p1 == p2 : \n",
    "    print(\"Match Tie\")\n",
    "elif ( p1 == 'r' and p2 == 's') or ( p1 == 'p' and p2 == 'r') or \\\n",
    "(p1 == 's' and p2 == 'p') :\n",
    "    print(\"Player Wins\")\n",
    "else :\n",
    "    print(\"Player Wins\")"
   ]
  },
  {
   "cell_type": "markdown",
   "metadata": {},
   "source": [
    "# Identity Operator"
   ]
  },
  {
   "cell_type": "code",
   "execution_count": 21,
   "metadata": {},
   "outputs": [
    {
     "name": "stdout",
     "output_type": "stream",
     "text": [
      "True\n",
      "False\n",
      "Both are different\n"
     ]
    }
   ],
   "source": [
    "#is or is not\n",
    "x = 5\n",
    "y = 5\n",
    "print(x is y)\n",
    "print( x is not y )\n",
    "p = 3\n",
    "q = 4\n",
    "if p is q :\n",
    "    print(\"Both are equal\")\n",
    "else :\n",
    "    print(\"Both are different\")"
   ]
  },
  {
   "cell_type": "code",
   "execution_count": null,
   "metadata": {
    "collapsed": true
   },
   "outputs": [],
   "source": []
  }
 ],
 "metadata": {
  "kernelspec": {
   "display_name": "Python 3",
   "language": "python",
   "name": "python3"
  },
  "language_info": {
   "codemirror_mode": {
    "name": "ipython",
    "version": 3
   },
   "file_extension": ".py",
   "mimetype": "text/x-python",
   "name": "python",
   "nbconvert_exporter": "python",
   "pygments_lexer": "ipython3",
   "version": "3.6.3"
  }
 },
 "nbformat": 4,
 "nbformat_minor": 2
}
