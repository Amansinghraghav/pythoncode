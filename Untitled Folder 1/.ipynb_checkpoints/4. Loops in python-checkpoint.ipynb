{
 "cells": [
  {
   "cell_type": "markdown",
   "metadata": {},
   "source": [
    "# Loop in Python"
   ]
  },
  {
   "cell_type": "code",
   "execution_count": 3,
   "metadata": {
    "collapsed": true
   },
   "outputs": [],
   "source": [
    "while False :\n",
    "    print(\"Hello World\")"
   ]
  },
  {
   "cell_type": "code",
   "execution_count": 4,
   "metadata": {},
   "outputs": [
    {
     "name": "stdout",
     "output_type": "stream",
     "text": [
      "Hello World!\n",
      "Hello World!\n",
      "Hello World!\n",
      "Hello World!\n",
      "Hello World!\n",
      "Hello World!\n",
      "Hello World!\n",
      "Hello World!\n",
      "Hello World!\n",
      "Hello World!\n",
      "Python is Awesome\n"
     ]
    }
   ],
   "source": [
    "c = 1\n",
    "while c <= 10 :\n",
    "    print(\"Hello World!\")\n",
    "    c = c + 1\n",
    "print(\"Python is Awesome\")"
   ]
  },
  {
   "cell_type": "code",
   "execution_count": 9,
   "metadata": {},
   "outputs": [
    {
     "name": "stdout",
     "output_type": "stream",
     "text": [
      "1\t2\t3\t4\t5\t6\t7\t8\t9\t10\t11\t12\t13\t14\t15\t16\t17\t18\t19\t20\t21\t22\t23\t24\t25\t26\t27\t28\t29\t30\t31\t32\t33\t34\t35\t36\t37\t38\t39\t40\t41\t42\t43\t44\t45\t46\t47\t48\t49\t50\t51\t52\t53\t54\t55\t56\t57\t58\t59\t60\t61\t62\t63\t64\t65\t66\t67\t68\t69\t70\t71\t72\t73\t74\t75\t76\t77\t78\t79\t80\t81\t82\t83\t84\t85\t86\t87\t88\t89\t90\t91\t92\t93\t94\t95\t96\t97\t98\t99\t100\t"
     ]
    }
   ],
   "source": [
    "c = 1\n",
    "while c <= 100 :\n",
    "    print(c,end='\\t' )\n",
    "    c = c + 1"
   ]
  },
  {
   "cell_type": "code",
   "execution_count": 6,
   "metadata": {},
   "outputs": [
    {
     "name": "stdout",
     "output_type": "stream",
     "text": [
      "100\t99\t98\t97\t96\t95\t94\t93\t92\t91\t90\t89\t88\t87\t86\t85\t84\t83\t82\t81\t80\t79\t78\t77\t76\t75\t74\t73\t72\t71\t70\t69\t68\t67\t66\t65\t64\t63\t62\t61\t60\t59\t58\t57\t56\t55\t54\t53\t52\t51\t50\t49\t48\t47\t46\t45\t44\t43\t42\t41\t40\t39\t38\t37\t36\t35\t34\t33\t32\t31\t30\t29\t28\t27\t26\t25\t24\t23\t22\t21\t20\t19\t18\t17\t16\t15\t14\t13\t12\t11\t10\t9\t8\t7\t6\t5\t4\t3\t2\t1\t"
     ]
    }
   ],
   "source": [
    "c = 100\n",
    "while c >= 1 :\n",
    "    print(c,end='\\t')\n",
    "    c = c - 1"
   ]
  },
  {
   "cell_type": "code",
   "execution_count": 12,
   "metadata": {
    "scrolled": true
   },
   "outputs": [
    {
     "name": "stdout",
     "output_type": "stream",
     "text": [
      "Enter number : 6\n",
      "    6\tx    1\t=    6\n",
      "    6\tx    2\t=   12\n",
      "    6\tx    3\t=   18\n",
      "    6\tx    4\t=   24\n",
      "    6\tx    5\t=   30\n",
      "    6\tx    6\t=   36\n",
      "    6\tx    7\t=   42\n",
      "    6\tx    8\t=   48\n",
      "    6\tx    9\t=   54\n",
      "    6\tx   10\t=   60\n"
     ]
    }
   ],
   "source": [
    "num = int(input(\"Enter number : \"))\n",
    "c = 1\n",
    "while c <= 10 :\n",
    "    print(\"{:5}\\tx{:5}\\t={:5}\".format(num,c,num*c))\n",
    "    c = c + 1"
   ]
  },
  {
   "cell_type": "code",
   "execution_count": 13,
   "metadata": {},
   "outputs": [
    {
     "name": "stdout",
     "output_type": "stream",
     "text": [
      "Enter a Number : 8\n",
      "8\n",
      "16\n",
      "24\n",
      "32\n",
      "40\n",
      "48\n",
      "56\n",
      "64\n",
      "72\n",
      "80\n"
     ]
    }
   ],
   "source": [
    "s = 0\n",
    "num = int(input(\"Enter a Number : \"))\n",
    "c = 1 \n",
    "while c <= 10 :\n",
    "    s = s + num\n",
    "    print(s)\n",
    "    c = c + 1"
   ]
  },
  {
   "cell_type": "code",
   "execution_count": 14,
   "metadata": {},
   "outputs": [
    {
     "name": "stdout",
     "output_type": "stream",
     "text": [
      "Player1: ········\n",
      "Player2: ········\n",
      "Player1 is the Winner\n",
      "Do want to continue (y/n) : n\n"
     ]
    }
   ],
   "source": [
    "p1 = [ ('r','s'),('p','r'),('s','p')]\n",
    "from getpass import getpass\n",
    "while True :\n",
    "    ch1 = getpass(\"Player1: \")\n",
    "    ch2 = getpass(\"Player2: \")\n",
    "    if ch1 == ch2 : \n",
    "        print(\"Match Tie\")\n",
    "    elif (ch1,ch2) in p1 :\n",
    "        print(\"Player1 is the Winner\")\n",
    "    else :\n",
    "        print(\"Player2 is the Winner\")\n",
    "    \n",
    "    ch = input(\"Do want to continue (y/n) : \").strip().lower()\n",
    "    if ch == 'y' or ch == 'yes' :\n",
    "        continue\n",
    "    else :\n",
    "        break"
   ]
  },
  {
   "cell_type": "code",
   "execution_count": null,
   "metadata": {},
   "outputs": [
    {
     "name": "stdout",
     "output_type": "stream",
     "text": [
      "1\n",
      "2\n",
      "3\n",
      "4\n",
      "5\n"
     ]
    }
   ],
   "source": [
    "from random import randrange\n",
    "while True :\n",
    "    c = 1\n",
    "    while c <= 5 :\n",
    "        print(c)\n",
    "        c = c + 1\n",
    "    \n",
    "    ch = input(\"Enter yes to continue : \").strip().lower()\n",
    "    if ch == 'y' or ch == 'yes' :\n",
    "        continue\n",
    "    else :\n",
    "        break"
   ]
  },
  {
   "cell_type": "code",
   "execution_count": null,
   "metadata": {},
   "outputs": [
    {
     "name": "stdout",
     "output_type": "stream",
     "text": [
      "Your Guess(1,50) : 25\n",
      "Be Big Think Bigger\n",
      "Your Guess(1,50) : 38\n",
      "Be Big Think Bigger\n",
      "Your Guess(1,50) : 45\n",
      "Be in Limits Think Lower\n",
      "Your Guess(1,50) : 41\n",
      "Computer Guess :  41\n",
      "You have won the Game : \n"
     ]
    }
   ],
   "source": [
    "from random import randrange\n",
    "while True :\n",
    "    c = 1\n",
    "    com_guess = randrange(1,50)\n",
    "    while c <= 5 :\n",
    "        user_guess = int(input(\"Your Guess(1,50) : \"))\n",
    "        if user_guess > 50 or user_guess < 1 :\n",
    "            print(\"You Idiot only 1-50 \")\n",
    "            continue\n",
    "        else : \n",
    "            if user_guess < com_guess :\n",
    "                print(\"Be Big Think Bigger\")\n",
    "            elif user_guess > com_guess :\n",
    "                print(\"Be in Limits Think Lower\")\n",
    "            else :\n",
    "                print(\"Computer Guess : \",com_guess)\n",
    "                print(\"You have won the Game : \")\n",
    "                break\n",
    "        if c == 5 :\n",
    "            print(\"Computer Guess : \",com_guess)\n",
    "            print(\"You such a looser\")\n",
    "        c = c + 1\n",
    "    \n",
    "    ch = input(\"Do want to play again (y/n) : \").strip().lower()\n",
    "    if ch == 'y' or ch == 'yes' :\n",
    "        continue\n",
    "    else :\n",
    "        break"
   ]
  },
  {
   "cell_type": "code",
   "execution_count": null,
   "metadata": {
    "collapsed": true
   },
   "outputs": [],
   "source": []
  }
 ],
 "metadata": {
  "kernelspec": {
   "display_name": "Python 3",
   "language": "python",
   "name": "python3"
  },
  "language_info": {
   "codemirror_mode": {
    "name": "ipython",
    "version": 3
   },
   "file_extension": ".py",
   "mimetype": "text/x-python",
   "name": "python",
   "nbconvert_exporter": "python",
   "pygments_lexer": "ipython3",
   "version": "3.6.3"
  }
 },
 "nbformat": 4,
 "nbformat_minor": 2
}
