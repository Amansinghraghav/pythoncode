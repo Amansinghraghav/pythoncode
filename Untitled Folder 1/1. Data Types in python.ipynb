{
 "cells": [
  {
   "cell_type": "markdown",
   "metadata": {},
   "source": [
    "# Python Language"
   ]
  },
  {
   "cell_type": "markdown",
   "metadata": {},
   "source": [
    "# Data Types in python"
   ]
  },
  {
   "cell_type": "markdown",
   "metadata": {},
   "source": [
    "1. Numbers\n",
    "2. String ( ' ' )\n",
    "3. List   ([])\n",
    "4. Tuple ( () )\n",
    "5. Dictonary (  {})\n",
    "6. Sets ( {} )"
   ]
  },
  {
   "cell_type": "markdown",
   "metadata": {},
   "source": [
    "# 1. Numbers"
   ]
  },
  {
   "cell_type": "code",
   "execution_count": 1,
   "metadata": {},
   "outputs": [
    {
     "name": "stdout",
     "output_type": "stream",
     "text": [
      "14\n"
     ]
    }
   ],
   "source": [
    "   #Integer\n",
    "   # x=5 #will stored in x so we can say x is a container or variable\n",
    "   #Float\n",
    "  # x=3.4\n",
    "   #Complex\n",
    "# x=3+4j\n",
    "x=5\n",
    "y=9\n",
    "print(x+y)"
   ]
  },
  {
   "cell_type": "markdown",
   "metadata": {},
   "source": [
    " Indentations Operator ( : )"
   ]
  },
  {
   "cell_type": "code",
   "execution_count": null,
   "metadata": {
    "collapsed": true
   },
   "outputs": [],
   "source": [
    "# indentations operator is like as carly bractes({})\n",
    "# Note indentations error is like as Syntax error\n",
    "num1=int(input(\"enter first number : \"))\n",
    "num2=int(input(\"enter secound number :\"))\n",
    "if num1>num2 :\n",
    "    print(\"num1 {} is greater then {}\".format(num1,num2))\n",
    "else :\n",
    "    print(\"num1 {} is greater then {}\".format(num1,num2))\n",
    "    \n",
    "    \n",
    "        \n",
    "        "
   ]
  },
  {
   "cell_type": "markdown",
   "metadata": {},
   "source": [
    "# 2. Strings\n"
   ]
  },
  {
   "cell_type": "markdown",
   "metadata": {},
   "source": [
    "*  '',\"\",\"\"\"\"\"\"\",'''''',\\"
   ]
  },
  {
   "cell_type": "code",
   "execution_count": 3,
   "metadata": {},
   "outputs": [
    {
     "name": "stdout",
     "output_type": "stream",
     "text": [
      "single quoted string\n",
      "Double quoted string\n",
      "hello\n",
      "         this is definiation\n",
      "                            of triple double quoted\n",
      "hello\n",
      "                 this is defination \n",
      "                                   of triple sigle quoted\n",
      "the world's best language\"python\"\n",
      "the world's best language'python'\n"
     ]
    }
   ],
   "source": [
    "x ='single quoted string'\n",
    "y=\"Double quoted string\"\n",
    "z=\"\"\"hello\n",
    "         this is definiation\n",
    "                            of triple double quoted\"\"\"\n",
    "zz='''hello\n",
    "                 this is defination \n",
    "                                   of triple sigle quoted'''\n",
    "xx=\"the world's best language\\\"python\\\"\"\n",
    "yy=\"the world's best language'python'\"\n",
    "print(x)\n",
    "print(y)\n",
    "print(z)\n",
    "print(zz)\n",
    "print(xx)\n",
    "print(yy)"
   ]
  },
  {
   "cell_type": "code",
   "execution_count": 6,
   "metadata": {},
   "outputs": [
    {
     "name": "stdout",
     "output_type": "stream",
     "text": [
      "python\n",
      "6\n",
      "t\n",
      "o\n"
     ]
    }
   ],
   "source": [
    "# Indexing\n",
    "s=\"python\"\n",
    "k=len(s)\n",
    "print(s)\n",
    "print(k)\n",
    "print(s[2])\n",
    "print(s[4])\n"
   ]
  },
  {
   "cell_type": "code",
   "execution_count": 5,
   "metadata": {},
   "outputs": [
    {
     "name": "stdout",
     "output_type": "stream",
     "text": [
      "11\n",
      "lo worl\n"
     ]
    }
   ],
   "source": [
    "# Slicing\n",
    "s=\"hello world\"\n",
    "print(len(s))\n",
    "print(s[3:10])"
   ]
  },
  {
   "cell_type": "code",
   "execution_count": 12,
   "metadata": {},
   "outputs": [
    {
     "name": "stdout",
     "output_type": "stream",
     "text": [
      "python is interpreted language\n",
      "python is i\n",
      "hon is interpret\n",
      "n is interpreted language\n",
      "hon is interpreted language\n"
     ]
    }
   ],
   "source": [
    "x=\"python is interpreted language\"\n",
    "print(x)\n",
    "print(x[:11])\n",
    "print(x[3:19])\n",
    "print(x[5:])\n",
    "print(x[3:30])"
   ]
  },
  {
   "cell_type": "code",
   "execution_count": 20,
   "metadata": {
    "scrolled": true
   },
   "outputs": [
    {
     "name": "stdout",
     "output_type": "stream",
     "text": [
      "30\n",
      "egaugnal deterpretni si nohtyp\n",
      "language\n",
      "eaga eepen inhy\n",
      "ener o\n"
     ]
    }
   ],
   "source": [
    "y=\"python is interpreted language\"\n",
    "print(len(y))\n",
    "z=(y[::-1])\n",
    "print(z)\n",
    "print(z[-23:-31:-1])\n",
    "print(y[::-2])\n",
    "print(y[::-5])"
   ]
  },
  {
   "cell_type": "code",
   "execution_count": 22,
   "metadata": {},
   "outputs": [
    {
     "name": "stdout",
     "output_type": "stream",
     "text": [
      "4567\n",
      "02468\n"
     ]
    }
   ],
   "source": [
    "p='0123456789'\n",
    "print(p[4:8])\n",
    "print(p[::2])"
   ]
  },
  {
   "cell_type": "code",
   "execution_count": 24,
   "metadata": {
    "scrolled": true
   },
   "outputs": [
    {
     "name": "stdout",
     "output_type": "stream",
     "text": [
      "['__add__', '__class__', '__contains__', '__delattr__', '__dir__', '__doc__', '__eq__', '__format__', '__ge__', '__getattribute__', '__getitem__', '__getnewargs__', '__gt__', '__hash__', '__init__', '__init_subclass__', '__iter__', '__le__', '__len__', '__lt__', '__mod__', '__mul__', '__ne__', '__new__', '__reduce__', '__reduce_ex__', '__repr__', '__rmod__', '__rmul__', '__setattr__', '__sizeof__', '__str__', '__subclasshook__', 'capitalize', 'casefold', 'center', 'count', 'encode', 'endswith', 'expandtabs', 'find', 'format', 'format_map', 'index', 'isalnum', 'isalpha', 'isdecimal', 'isdigit', 'isidentifier', 'islower', 'isnumeric', 'isprintable', 'isspace', 'istitle', 'isupper', 'join', 'ljust', 'lower', 'lstrip', 'maketrans', 'partition', 'replace', 'rfind', 'rindex', 'rjust', 'rpartition', 'rsplit', 'rstrip', 'split', 'splitlines', 'startswith', 'strip', 'swapcase', 'title', 'translate', 'upper', 'zfill']\n"
     ]
    }
   ],
   "source": [
    "w=\"python\"\n",
    "print(dir(w))"
   ]
  },
  {
   "cell_type": "code",
   "execution_count": 5,
   "metadata": {},
   "outputs": [
    {
     "name": "stdout",
     "output_type": "stream",
     "text": [
      "Hello World\n",
      "HELLO WORLD\n",
      "hello world\n",
      "hELLO wORLD\n"
     ]
    }
   ],
   "source": [
    "s=\"Hello World\"\n",
    "print(s)\n",
    "print(s.upper())\n",
    "print(s.lower())\n",
    "print(s.swapcase())"
   ]
  },
  {
   "cell_type": "code",
   "execution_count": 6,
   "metadata": {},
   "outputs": [
    {
     "name": "stdout",
     "output_type": "stream",
     "text": [
      "all dogs are cat but all cats are not dog\n",
      "all dogs are dog but all dogs are not dog\n",
      "13\n"
     ]
    }
   ],
   "source": [
    "s=\"all dogs are cat but all cats are not dog\"\n",
    "print(s)\n",
    "print(s.replace('cat','dog'))\n",
    "print(s.find('cat'))"
   ]
  },
  {
   "cell_type": "code",
   "execution_count": 7,
   "metadata": {},
   "outputs": [
    {
     "name": "stdout",
     "output_type": "stream",
     "text": [
      "         raghav             \n",
      "raghav\n"
     ]
    }
   ],
   "source": [
    "# strip function\n",
    "# it is avoid the extra space in string\n",
    "aman='         raghav             '\n",
    "print(aman)\n",
    "print(aman.strip())"
   ]
  },
  {
   "cell_type": "markdown",
   "metadata": {},
   "source": [
    "# 3. List"
   ]
  },
  {
   "cell_type": "code",
   "execution_count": 10,
   "metadata": {
    "scrolled": false
   },
   "outputs": [
    {
     "name": "stdout",
     "output_type": "stream",
     "text": [
      "22 6 3 8 44 66 1 22 99 66 1 66\n",
      "hi 34 56 22 77 88 99 77 hello hi 32 77\n",
      "22 3 44\n",
      "['__add__', '__class__', '__contains__', '__delattr__', '__delitem__', '__dir__', '__doc__', '__eq__', '__format__', '__ge__', '__getattribute__', '__getitem__', '__gt__', '__hash__', '__iadd__', '__imul__', '__init__', '__init_subclass__', '__iter__', '__le__', '__len__', '__lt__', '__mul__', '__ne__', '__new__', '__reduce__', '__reduce_ex__', '__repr__', '__reversed__', '__rmul__', '__setattr__', '__setitem__', '__sizeof__', '__str__', '__subclasshook__', 'append', 'clear', 'copy', 'count', 'extend', 'index', 'insert', 'pop', 'remove', 'reverse', 'sort']\n"
     ]
    }
   ],
   "source": [
    "mylist1=[22,6,3,8,44,66,1,22,99,66,1,66] # it can be called array(homogenous list)\n",
    "mylist2=[ 'hi',34,56,22,77,88,99,77,'hello','hi',32,77] # it can be called array(hetrogenous list)\n",
    "print(*mylist1)\n",
    "print(*mylist2)\n",
    "print(*mylist1[:6:2])\n",
    "print(dir(mylist1))"
   ]
  },
  {
   "cell_type": "raw",
   "metadata": {},
   "source": [
    "List Function\n",
    "\n",
    "function that are used to insert items in list  :  insert(add the item at the specific place),append(add the items at the end of list),extend(add the items at the end of list)\n",
    "\n",
    "function that are used to remove the items in the list :pop,remove\n",
    "\n",
    "Some common function of list :short,reserve,count,index,copy,clear"
   ]
  },
  {
   "cell_type": "code",
   "execution_count": 17,
   "metadata": {},
   "outputs": [
    {
     "name": "stdout",
     "output_type": "stream",
     "text": [
      "1 23 4 23 hi 45 10 12 66 77 hello\n",
      "1 23 4 23 hi 45 10 12 66 77 hello bye 45\n"
     ]
    }
   ],
   "source": [
    "# Function that are used to add items in list\n",
    "#append -> it will add a item at the end of the list use - mylist.append(item)\n",
    "mylist = [ 1,23,4,23,'hi',45,10,12,66,77,'hello']\n",
    "print(*mylist)\n",
    "mylist.append('bye')\n",
    "mylist.append(45)\n",
    "print(*mylist)\n"
   ]
  },
  {
   "cell_type": "code",
   "execution_count": 19,
   "metadata": {},
   "outputs": [
    {
     "name": "stdout",
     "output_type": "stream",
     "text": [
      "hello 23 4 23 1000 hi 45 10 12 66 77 hello\n"
     ]
    }
   ],
   "source": [
    "mylist = [ 1,23,4,23,'hi',45,10,12,66,77,'hello']\n",
    "#insert -> it will take index number and item and add that item to given index\n",
    "#use = mylist.insert(index,item)\n",
    "mylist.insert(4,1000)\n",
    "mylist[0]=('hello')\n",
    "print(*mylist)"
   ]
  },
  {
   "cell_type": "code",
   "execution_count": 21,
   "metadata": {},
   "outputs": [
    {
     "name": "stdout",
     "output_type": "stream",
     "text": [
      "1 23 4 23 hi 45 10 12 66 77 hello a m a n raghav\n"
     ]
    }
   ],
   "source": [
    "mylist = [ 1,23,4,23,'hi',45,10,12,66,77,'hello']\n",
    "mylist.extend('aman')\n",
    "mylist.extend(['raghav'])\n",
    "print(*mylist)"
   ]
  },
  {
   "cell_type": "code",
   "execution_count": 25,
   "metadata": {},
   "outputs": [
    {
     "name": "stdout",
     "output_type": "stream",
     "text": [
      "4 23 hi 45 10 12 66 77\n"
     ]
    }
   ],
   "source": [
    "mylist = [ 1,23,4,23,'hi',45,10,12,66,77,'hello']\n",
    "# pop,remove\n",
    "mylist.pop();mylist.pop(0)\n",
    "mylist.remove(23)\n",
    "print(*mylist)"
   ]
  },
  {
   "cell_type": "code",
   "execution_count": 43,
   "metadata": {},
   "outputs": [
    {
     "name": "stdout",
     "output_type": "stream",
     "text": [
      "1 4 10 12 23 23 45 66 77\n",
      "e,o,j,j\n",
      "77 66 45 23 23 12 10 4 1\n",
      "2\n"
     ]
    }
   ],
   "source": [
    "# short,reserve,count,index,copy,clear\n",
    "mylist = [ 1,23,4,23,45,10,12,66,77]\n",
    "mylist1 = ['e,o,j,j']\n",
    "mylist.sort()\n",
    "print(*mylist)\n",
    "mylist1.sort()\n",
    "print(*mylist1)\n",
    "mylist.sort(reverse=True)\n",
    "print(*mylist)\n",
    "f=mylist.count(23)\n",
    "print(f)"
   ]
  },
  {
   "cell_type": "markdown",
   "metadata": {
    "collapsed": true
   },
   "source": [
    "# 4. Tuple"
   ]
  },
  {
   "cell_type": "code",
   "execution_count": 21,
   "metadata": {
    "scrolled": true
   },
   "outputs": [
    {
     "name": "stdout",
     "output_type": "stream",
     "text": [
      "one 2 3 three [1, 2, 3, 4] 5 2 6 7 2\n",
      "['__add__', '__class__', '__contains__', '__delattr__', '__dir__', '__doc__', '__eq__', '__format__', '__ge__', '__getattribute__', '__getitem__', '__getnewargs__', '__gt__', '__hash__', '__init__', '__init_subclass__', '__iter__', '__le__', '__len__', '__lt__', '__mul__', '__ne__', '__new__', '__reduce__', '__reduce_ex__', '__repr__', '__rmul__', '__setattr__', '__sizeof__', '__str__', '__subclasshook__', 'count', 'index']\n",
      "1\n",
      "(2, 7, 6, 2, 5, [1, 2, 3, 4], 'three', 3, 2, 'one')\n",
      "2 repeated 3 times in tuple\n",
      "index number of three :  7\n",
      "3\n"
     ]
    }
   ],
   "source": [
    "# tuple is immutable data type that can not be changed after its defination\n",
    "mytuple=('one',2,3,'three',[1,2,3,4],5,2,6,7,2)\n",
    "print(*mytuple)\n",
    "print(dir(mytuple))\n",
    "print(mytuple.count('one'))\n",
    "print(mytuple[-1::-1])\n",
    "print('2 repeated {} times in tuple'.format(mytuple.count(2)) )\n",
    "print('index number of three : ',mytuple.index(6))\n",
    "print(mytuple[4][2])"
   ]
  },
  {
   "cell_type": "code",
   "execution_count": 8,
   "metadata": {},
   "outputs": [
    {
     "name": "stdout",
     "output_type": "stream",
     "text": [
      "[3, 4, 5] [3, 5, 7] [8, 7, 56]\n",
      "56\n"
     ]
    }
   ],
   "source": [
    "mytuple=[\n",
    "     [3,4,5],\n",
    "     [3,5,7],\n",
    "     [8,7,56],\n",
    "]\n",
    "print(*mytuple)\n",
    "print(mytuple[2][2])"
   ]
  },
  {
   "cell_type": "markdown",
   "metadata": {},
   "source": [
    "# 5.Dictionary"
   ]
  },
  {
   "cell_type": "raw",
   "metadata": {},
   "source": [
    "dictionary are collection of key and values"
   ]
  },
  {
   "cell_type": "code",
   "execution_count": 18,
   "metadata": {},
   "outputs": [
    {
     "name": "stdout",
     "output_type": "stream",
     "text": [
      "{'name': 'python', 'scope': 'world wide', 'build year': '1994', 'frame work': ['django', 'flask', 'web2py', 'pyramid'], 'father': 'gudio van rossum', 'field': ['cloud', 'scripting', 'automation', 'AI', 'Ml', 'data science']}\n",
      "name scope build year frame work father field\n",
      "         \n",
      "['__class__', '__contains__', '__delattr__', '__delitem__', '__dir__', '__doc__', '__eq__', '__format__', '__ge__', '__getattribute__', '__getitem__', '__gt__', '__hash__', '__init__', '__init_subclass__', '__iter__', '__le__', '__len__', '__lt__', '__ne__', '__new__', '__reduce__', '__reduce_ex__', '__repr__', '__setattr__', '__setitem__', '__sizeof__', '__str__', '__subclasshook__', 'clear', 'copy', 'fromkeys', 'get', 'items', 'keys', 'pop', 'popitem', 'setdefault', 'update', 'values']\n",
      "         \n",
      "['cloud', 'scripting', 'automation', 'AI', 'Ml', 'data science']\n",
      "\n",
      "dict_values(['python', 'world wide', '1994', ['django', 'flask', 'web2py', 'pyramid'], 'gudio van rossum', ['cloud', 'scripting', 'automation', 'AI', 'Ml', 'data science']])\n",
      "\n",
      "dict_keys(['name', 'scope', 'build year', 'frame work', 'father', 'field'])\n"
     ]
    }
   ],
   "source": [
    "mydict = {\n",
    "    'name'          : 'python',\n",
    "    'scope'         : 'world wide',\n",
    "    'build year'    : '1994',\n",
    "    'frame work'    : ['django','flask','web2py','pyramid'],\n",
    "    'father'        : 'gudio van rossum',\n",
    "    'field'         : ['cloud','scripting','automation','AI','Ml','data science']\n",
    "}\n",
    "print(mydict)\n",
    "print(*mydict)\n",
    "print('         ')\n",
    "print(dir(mydict))\n",
    "print('         ')\n",
    "print(mydict.get('field'))\n",
    "print()\n",
    "print(mydict.values())\n",
    "print()\n",
    "print(mydict.keys())\n"
   ]
  },
  {
   "cell_type": "code",
   "execution_count": null,
   "metadata": {
    "collapsed": true
   },
   "outputs": [],
   "source": [
    "mydict = {\n",
    "    'name'          : 'python',\n",
    "    'scope'         : 'world wide',\n",
    "    'build year'    : '1994',\n",
    "    'frame work'    : ['django','flask','web2py','pyramid'],\n",
    "    'father'        : 'gudio van rossum',\n",
    "    'field'         : ['cloud','scripting','automation','AI','Ml','data science']\n",
    "}\n",
    "mydict['name']='python programin language'\n",
    "print(mydict.values())\n",
    "key=input('enter key')\n",
    "value=(input('enter a value'))\n",
    "mydict[key]=value\n",
    "print(mydict[key],\"sucessfully added\")\n",
    "print(mydict.keys())"
   ]
  },
  {
   "cell_type": "markdown",
   "metadata": {
    "collapsed": true
   },
   "source": [
    "# 6.Sets"
   ]
  },
  {
   "cell_type": "code",
   "execution_count": 5,
   "metadata": {},
   "outputs": [
    {
     "name": "stdout",
     "output_type": "stream",
     "text": [
      "{1, 2, 3, 4, 5}\n",
      "{2, 4, 5, 6, 9, 78}\n",
      "['__and__', '__class__', '__contains__', '__delattr__', '__dir__', '__doc__', '__eq__', '__format__', '__ge__', '__getattribute__', '__gt__', '__hash__', '__iand__', '__init__', '__init_subclass__', '__ior__', '__isub__', '__iter__', '__ixor__', '__le__', '__len__', '__lt__', '__ne__', '__new__', '__or__', '__rand__', '__reduce__', '__reduce_ex__', '__repr__', '__ror__', '__rsub__', '__rxor__', '__setattr__', '__sizeof__', '__str__', '__sub__', '__subclasshook__', '__xor__', 'add', 'clear', 'copy', 'difference', 'difference_update', 'discard', 'intersection', 'intersection_update', 'isdisjoint', 'issubset', 'issuperset', 'pop', 'remove', 'symmetric_difference', 'symmetric_difference_update', 'union', 'update']\n",
      "{2, 4, 5}\n",
      "{1, 2, 3, 4, 5, 6, 9, 78}\n",
      "{1, 3}\n"
     ]
    }
   ],
   "source": [
    "s1={1,2,3,4,5,4}\n",
    "s2={5,6,78,9,6,4,2}\n",
    "print(s1)\n",
    "print(s2)\n",
    "print(dir(s1))\n",
    "print(s1.intersection(s2))\n",
    "print(s1.union(s2))\n",
    "print(s1.difference(s2))"
   ]
  },
  {
   "cell_type": "code",
   "execution_count": null,
   "metadata": {
    "collapsed": true
   },
   "outputs": [],
   "source": []
  }
 ],
 "metadata": {
  "kernelspec": {
   "display_name": "Python 3",
   "language": "python",
   "name": "python3"
  },
  "language_info": {
   "codemirror_mode": {
    "name": "ipython",
    "version": 3
   },
   "file_extension": ".py",
   "mimetype": "text/x-python",
   "name": "python",
   "nbconvert_exporter": "python",
   "pygments_lexer": "ipython3",
   "version": "3.6.3"
  }
 },
 "nbformat": 4,
 "nbformat_minor": 2
}
