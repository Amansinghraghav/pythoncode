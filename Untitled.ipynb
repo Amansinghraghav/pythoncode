{
 "cells": [
  {
   "cell_type": "code",
   "execution_count": 2,
   "metadata": {},
   "outputs": [
    {
     "name": "stdout",
     "output_type": "stream",
     "text": [
      "enter the blood group : AB-\n",
      "you can give blood to AB+ and AB-\n",
      "you can recive blood to AB- , A- , B- and O-\n"
     ]
    }
   ],
   "source": [
    "Blood_group = input(\"enter the blood group : \")\n",
    "if  Blood_group == 'A+' :\n",
    "    print('you can give blood to A+ and AB+')\n",
    "    print('you can recive blood from  A+, A-, O+, O-')\n",
    "    \n",
    "elif Blood_group == 'O+' :\n",
    "    print('you can give blood to O+ ,A+ , B+ and AB+')\n",
    "    print('you can recive blood from O+ and O-')\n",
    "\n",
    "elif Blood_group == 'B+' :\n",
    "    print('you can give blood to B+ and AB+')\n",
    "    print('you can recive blood from B+ ,B- , O+ and O-')\n",
    "    \n",
    "elif Blood_group == 'AB+' :\n",
    "    print('you can give blood to AB+')\n",
    "    print('you can recive blood from everyone')\n",
    "    \n",
    "elif Blood_group == 'A-' :\n",
    "    print('you can give blood to A+ ,A- ,AB+ and AB-')\n",
    "    print('you can recive blood from A- and O-')\n",
    "    \n",
    "elif Blood_group == 'O-' :\n",
    "    print('you can give blood to everyone')\n",
    "    print('you can recive blood from O-')\n",
    "    \n",
    "elif Blood_group == 'B-' :\n",
    "    print('you can give blood to B+ ,B- , AB+ and AB-')\n",
    "    print('you can recive blood from B- and O-')\n",
    "    \n",
    "elif Blood_group == 'AB-' :\n",
    "    print('you can give blood to AB+ and AB-')\n",
    "    print('you can recive blood to AB- , A- , B- and O-')\n",
    "else :\n",
    "    print('BLood group is wrong . this is not a Blood group')\n",
    "    "
   ]
  },
  {
   "cell_type": "markdown",
   "metadata": {
    "collapsed": true
   },
   "source": [
    "# Membership operator"
   ]
  },
  {
   "cell_type": "code",
   "execution_count": null,
   "metadata": {
    "collapsed": true
   },
   "outputs": [],
   "source": [
    "p1={('r','s'),('p','r'),('s','p')}\n",
    "from getpass import getpass\n",
    "ch1=getpass('player1 : ')\n",
    "ch2=getpass('player2 : ')\n",
    "\n"
   ]
  },
  {
   "cell_type": "markdown",
   "metadata": {},
   "source": [
    "# Identity Operator"
   ]
  },
  {
   "cell_type": "code",
   "execution_count": 1,
   "metadata": {},
   "outputs": [
    {
     "ename": "SyntaxError",
     "evalue": "invalid syntax (<ipython-input-1-87fde2f65721>, line 4)",
     "output_type": "error",
     "traceback": [
      "\u001b[1;36m  File \u001b[1;32m\"<ipython-input-1-87fde2f65721>\"\u001b[1;36m, line \u001b[1;32m4\u001b[0m\n\u001b[1;33m    num = 1\u001b[0m\n\u001b[1;37m      ^\u001b[0m\n\u001b[1;31mSyntaxError\u001b[0m\u001b[1;31m:\u001b[0m invalid syntax\n"
     ]
    }
   ],
   "source": [
    "from random import randrange\n",
    "random_number = randrange(1,100)\n",
    "guess_number = int(input(\"enter a number : \")\n",
    "num = 1\n",
    "while num =< 5 :\n",
    "                 if random_number == guess_number  :\n",
    "                  print(\"you are the winner\")\n",
    "                  elif random_number < guess_number :\n",
    "                  print(\"be in limits think lower\")\n",
    "                  elif random_number > guess_number :\n",
    "                  print(\"be big think bigger\")\n",
    "                  else :\n",
    "                   print('you are a such a losser')\n",
    "                   num++"
   ]
  },
  {
   "cell_type": "markdown",
   "metadata": {},
   "source": [
    "# Loops"
   ]
  },
  {
   "cell_type": "code",
   "execution_count": null,
   "metadata": {
    "collapsed": true
   },
   "outputs": [],
   "source": [
    "# while\n",
    "# for"
   ]
  },
  {
   "cell_type": "code",
   "execution_count": null,
   "metadata": {
    "collapsed": true
   },
   "outputs": [],
   "source": []
  },
  {
   "cell_type": "code",
   "execution_count": null,
   "metadata": {
    "collapsed": true
   },
   "outputs": [],
   "source": []
  },
  {
   "cell_type": "code",
   "execution_count": null,
   "metadata": {
    "collapsed": true
   },
   "outputs": [],
   "source": []
  },
  {
   "cell_type": "code",
   "execution_count": null,
   "metadata": {
    "collapsed": true
   },
   "outputs": [],
   "source": []
  },
  {
   "cell_type": "code",
   "execution_count": null,
   "metadata": {
    "collapsed": true
   },
   "outputs": [],
   "source": []
  },
  {
   "cell_type": "code",
   "execution_count": null,
   "metadata": {
    "collapsed": true
   },
   "outputs": [],
   "source": [
    "\n"
   ]
  },
  {
   "cell_type": "code",
   "execution_count": null,
   "metadata": {
    "collapsed": true
   },
   "outputs": [],
   "source": [
    "c=1\n",
    "while c<=100 :\n",
    "    print(c)\n",
    "    c=c+1"
   ]
  },
  {
   "cell_type": "code",
   "execution_count": 3,
   "metadata": {},
   "outputs": [
    {
     "name": "stdout",
     "output_type": "stream",
     "text": [
      "computer given number :  90\n",
      "enter a number4\n",
      "the number is heigher\n",
      "enter a number5\n",
      "the number is heigher\n",
      "enter a number99\n",
      "the number is lower\n",
      "enter a number66\n",
      "the number is heigher\n",
      "enter a number77\n",
      "the number is heigher\n"
     ]
    }
   ],
   "source": [
    "from random import randrange\n",
    "x=randrange(1,100)\n",
    "print('computer given number : ',x)\n",
    "y=1\n",
    "while y<=5 :\n",
    "    z = int(input(\"enter a number\"))\n",
    "    if x < z   :\n",
    "        print('the number is lower')\n",
    "    elif x > z :\n",
    "        print('the number is heigher')\n",
    "    elif x == z :\n",
    "        print('winner')\n",
    "        break \n",
    "    else :\n",
    "        print('losser')\n",
    "    y= y + 1"
   ]
  },
  {
   "cell_type": "code",
   "execution_count": null,
   "metadata": {
    "collapsed": true
   },
   "outputs": [],
   "source": []
  },
  {
   "cell_type": "code",
   "execution_count": null,
   "metadata": {
    "collapsed": true
   },
   "outputs": [],
   "source": []
  }
 ],
 "metadata": {
  "kernelspec": {
   "display_name": "Python 3",
   "language": "python",
   "name": "python3"
  },
  "language_info": {
   "codemirror_mode": {
    "name": "ipython",
    "version": 3
   },
   "file_extension": ".py",
   "mimetype": "text/x-python",
   "name": "python",
   "nbconvert_exporter": "python",
   "pygments_lexer": "ipython3",
   "version": "3.6.3"
  }
 },
 "nbformat": 4,
 "nbformat_minor": 2
}
