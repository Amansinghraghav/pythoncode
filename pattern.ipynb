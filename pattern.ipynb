{
 "cells": [
  {
   "cell_type": "code",
   "execution_count": 35,
   "metadata": {},
   "outputs": [
    {
     "name": "stdout",
     "output_type": "stream",
     "text": [
      "enter the row : 11\n",
      "*    ******\n",
      "*    *\n",
      "*    *\n",
      "*    *\n",
      "*    *\n",
      "***********\n",
      "     *    *\n",
      "     *    *\n",
      "     *    *\n",
      "     *    *\n",
      "******    *\n"
     ]
    }
   ],
   "source": [
    "n = int(input('enter the row : '))\n",
    "if n %2 ==0 :\n",
    "    n = n+1\n",
    "for row in range(1,n+1) :\n",
    "    if row == 1 :\n",
    "        print(\"*\",end='')\n",
    "        print(\" \"*(n//2-1),end='')\n",
    "        print(\"*\"*(n//2+1))\n",
    "    elif row <= n//2 :\n",
    "        print(\"*\",end='')\n",
    "        print(\" \"*(n//2-1),end='')\n",
    "        print('*')\n",
    "    elif row == n//2+1 :\n",
    "        print(\"*\"*(n))\n",
    "    elif row <=n-1 :\n",
    "        print(\" \"*(n//2),end='')\n",
    "        print(\"*\",end='')\n",
    "        print(\" \"*(n//2-1),end='')\n",
    "        print(\"*\")\n",
    "    else :\n",
    "        print(\"*\"*(n//2+1),end='')\n",
    "        print(' '*(n//2-1),end='')\n",
    "        print('*')"
   ]
  },
  {
   "cell_type": "code",
   "execution_count": 41,
   "metadata": {},
   "outputs": [
    {
     "name": "stdout",
     "output_type": "stream",
     "text": [
      "enter row :11\n",
      "          *\n",
      "         **\n",
      "        ***\n",
      "       ****\n",
      "      *****\n",
      "     ******\n",
      "    *******\n",
      "   ********\n",
      "  *********\n",
      " **********\n"
     ]
    }
   ],
   "source": [
    "n=int(input('enter row :'))\n",
    "for col in range(1,n)  :\n",
    "    print(\" \"*(n-col),end='')\n",
    "    print('*'*(col))"
   ]
  },
  {
   "cell_type": "code",
   "execution_count": 42,
   "metadata": {},
   "outputs": [
    {
     "name": "stdout",
     "output_type": "stream",
     "text": [
      "enter row : 11\n",
      "*\n",
      "**\n",
      "***\n",
      "****\n",
      "*****\n",
      "******\n",
      "*******\n",
      "********\n",
      "*********\n",
      "**********\n"
     ]
    }
   ],
   "source": [
    "n=int(input('enter row : '))\n",
    "for row in range(1,n) :\n",
    "    print(\"*\"*row)"
   ]
  },
  {
   "cell_type": "code",
   "execution_count": 44,
   "metadata": {},
   "outputs": [
    {
     "name": "stdout",
     "output_type": "stream",
     "text": [
      "enter row : 11\n",
      "***********\n",
      "**********\n",
      "*********\n",
      "********\n",
      "*******\n",
      "******\n",
      "*****\n",
      "****\n",
      "***\n",
      "**\n",
      "*\n"
     ]
    }
   ],
   "source": [
    "n=int(input('enter row : '))\n",
    "for row in range(n,0,-1) :\n",
    "    print(\"*\"*row)"
   ]
  },
  {
   "cell_type": "code",
   "execution_count": 45,
   "metadata": {},
   "outputs": [
    {
     "name": "stdout",
     "output_type": "stream",
     "text": [
      "enter row :11\n",
      "***********\n",
      " **********\n",
      "  *********\n",
      "   ********\n",
      "    *******\n",
      "     ******\n",
      "      *****\n",
      "       ****\n",
      "        ***\n",
      "         **\n",
      "          *\n"
     ]
    }
   ],
   "source": [
    "n=int(input('enter row :'))\n",
    "for col in range(n,0,-1)  :\n",
    "    print(\" \"*(n-col),end='')\n",
    "    print('*'*(col))"
   ]
  },
  {
   "cell_type": "code",
   "execution_count": 57,
   "metadata": {},
   "outputs": [
    {
     "name": "stdout",
     "output_type": "stream",
     "text": [
      "enter row :11\n",
      "          *\n",
      "         ***\n",
      "        *****\n",
      "       *******\n",
      "      *********\n",
      "     ***********\n",
      "    *************\n",
      "   ***************\n",
      "  *****************\n",
      " *******************\n",
      "*********************\n"
     ]
    }
   ],
   "source": [
    "n=int(input('enter row :'))\n",
    "for col in range(1,n+1)  :\n",
    "    print(\" \"*(n-col),end='')\n",
    "    print('*'*(col-1),end='')\n",
    "    print('*'*col)"
   ]
  },
  {
   "cell_type": "code",
   "execution_count": 69,
   "metadata": {},
   "outputs": [
    {
     "name": "stdout",
     "output_type": "stream",
     "text": [
      "enter row :11\n",
      "          *\n",
      "         ***\n",
      "        *****\n",
      "       *******\n",
      "      *********\n",
      "     ***********\n",
      "    *************\n",
      "   ***************\n",
      "  *****************\n",
      " *******************\n",
      "*********************\n",
      " *******************\n",
      "  *****************\n",
      "   ***************\n",
      "    *************\n",
      "     ***********\n",
      "      *********\n",
      "       *******\n",
      "        *****\n",
      "         ***\n",
      "          *\n"
     ]
    }
   ],
   "source": [
    "n=int(input('enter row :'))\n",
    "for col in range(1,n)  :\n",
    "    print(\" \"*(n-col),end='')\n",
    "    print('*'*(col-1),end='')\n",
    "    print('*'*col)\n",
    "for col in range(n,0,-1)  :\n",
    "    print(\" \"*(n-col),end='')\n",
    "    print('*'*(col-1),end='')\n",
    "    print('*'*col)"
   ]
  },
  {
   "cell_type": "code",
   "execution_count": 43,
   "metadata": {},
   "outputs": [
    {
     "name": "stdout",
     "output_type": "stream",
     "text": [
      "enter row :11\n",
      "********************\n",
      "*********  *********\n",
      "********    ********\n",
      "*******      *******\n",
      "******        ******\n",
      "*****          *****\n",
      "****            ****\n",
      "***              ***\n",
      "**                **\n",
      "*         \n",
      "**        \n",
      "***       \n",
      "****      \n",
      "*****     \n",
      "******    \n",
      "*******   \n",
      "********  \n",
      "********* \n",
      "**********\n"
     ]
    }
   ],
   "source": [
    "n=int(input('enter row :'))\n",
    "for col in range(1,n-1)  :\n",
    "    print(\"*\"*(n-col),end='')\n",
    "    print(' '*(col-1),end='')\n",
    "    print(' '*(col-1),end='')\n",
    "    print(\"*\"*(n-col))\n",
    "for col in range(n-1,0,-1)  :\n",
    "    print(\"*\"*(n-col),end='')\n",
    "    print(' '*(col-1),end=)\n",
    "    print(' '*(col-1))\n",
    "    print(\"*\"*(n-col),end='')"
   ]
  },
  {
   "cell_type": "code",
   "execution_count": null,
   "metadata": {
    "collapsed": true
   },
   "outputs": [],
   "source": []
  }
 ],
 "metadata": {
  "kernelspec": {
   "display_name": "Python 3",
   "language": "python",
   "name": "python3"
  },
  "language_info": {
   "codemirror_mode": {
    "name": "ipython",
    "version": 3
   },
   "file_extension": ".py",
   "mimetype": "text/x-python",
   "name": "python",
   "nbconvert_exporter": "python",
   "pygments_lexer": "ipython3",
   "version": "3.6.3"
  }
 },
 "nbformat": 4,
 "nbformat_minor": 2
}
